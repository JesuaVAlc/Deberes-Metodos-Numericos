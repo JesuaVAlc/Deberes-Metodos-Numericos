{
 "cells": [
  {
   "cell_type": "raw",
   "id": "9b79e2a1-ff52-4efd-b894-034e8e18e0f2",
   "metadata": {},
   "source": [
    "---\n",
    "title: \"Tarea 11\"\n",
    "author: \"Jesua Villacis\"\n",
    "lang: es\n",
    "format:\n",
    " pdf:\n",
    "  toc: false\n",
    "execute:\n",
    " echo: false\n",
    " error: false\n",
    " warning: false\n",
    "jupyter: python3\n",
    "---"
   ]
  },
  {
   "cell_type": "markdown",
   "id": "01ed0265-61c7-419f-9207-0404cb6b855a",
   "metadata": {},
   "source": [
    "## Link al notebook con las celdas de python para la resolucion de los ejercicios\n",
    "https://github.com/JesuaVAlc/Deberes-Metodos-Numericos/blob/main/Tarea11_JesuaVillacis.ipynb"
   ]
  },
  {
   "cell_type": "markdown",
   "id": "4812af1c-e79a-431b-aedc-f78f1c356db9",
   "metadata": {},
   "source": [
    "**1.** Encuentre las primeras dos iteraciones del método de Jacobi para los siguientes sistemas lineales, por\n",
    "medio de $𝐱^{(𝟎)} = 0$:\n"
   ]
  },
  {
   "cell_type": "markdown",
   "id": "31a9f99a-38fe-48aa-b8d6-280505058925",
   "metadata": {},
   "source": [
    "**a)**\n",
    "\\begin{gather*}\n",
    "3 x_{1} - x_{2} + x_{3} = 1, \\\\\n",
    "3 x_{1} + 6 x_{2} + 2 x_{3} = 0, \\\\\n",
    "3 x_{1} + 3 x_{2} + 7 x_{3} = 4.\n",
    "\\end{gather*}"
   ]
  },
  {
   "cell_type": "markdown",
   "id": "ecf52b33-e5b2-4862-a9e9-35cb05bfe0c5",
   "metadata": {},
   "source": [
    "**b)**\n",
    "\\begin{gather*}\n",
    "10 x_{1} - x_{2} = 9, \\\\\n",
    "- x_{1} + 10 x_{2} - 2 x_{3} = 7, \\\\\n",
    "-2x_2+10x_3=6\n",
    "\\end{gather*}"
   ]
  },
  {
   "cell_type": "markdown",
   "id": "60db4240-0c1c-4a15-9418-380187c3ca92",
   "metadata": {},
   "source": [
    "**c)**\n",
    "\\begin{gather*}\n",
    "10 x_{1} + 5 x_{2} = 6,\\\\\n",
    "5 x_{1} + 10 x_{2} - 4 x_{3} = 25, \\\\\n",
    "-4 x_{2} + 8 x_{3} - x_{4} = -11, \\\\\n",
    "- x_{3} + 5 x_{4} = -11, \\\\\n",
    "\\end{gather*}"
   ]
  },
  {
   "cell_type": "markdown",
   "id": "01d467b2-7ab0-4007-9b0f-d039435e4d5d",
   "metadata": {},
   "source": [
    "**d)**\n",
    "\\begin{gather*}\n",
    "4 x_{1} + x_{2} + x_{3} + x_{5} = 6, \\\\\n",
    "- x_{1} - 3 x_{2} + x_{3} + x_{4} = 6, \\\\\n",
    "2 x_{1} + x_{2} + 5 x_{3} - x_{4} - x_{5} = 6, \\\\\n",
    "- x_{1} - x_{2} - x_{3} + 4 x_{4} = 6,\n",
    "\\end{gather*}"
   ]
  },
  {
   "cell_type": "markdown",
   "id": "f2febfef-6272-44a5-a6d9-26615b690680",
   "metadata": {},
   "source": [
    "**2.** Repita el ejercicio 1 usando el método de Gauss-Siedel."
   ]
  },
  {
   "cell_type": "markdown",
   "id": "ea2344e3-0f18-4e06-b628-8face984b424",
   "metadata": {},
   "source": [
    "**3.** Utilice el método de Jacobi para resolver los sistemas lineales en el ejercicio 1, con TOL = 10-3."
   ]
  },
  {
   "cell_type": "markdown",
   "id": "f5bb6649-4f74-40b3-8999-018363792f1c",
   "metadata": {},
   "source": [
    "**4.** Utilice el método de Gauss-Siedel para resolver los sistemas lineales en el ejercicio 1, con TOL = 10-3."
   ]
  },
  {
   "cell_type": "markdown",
   "id": "322a7995-899c-4204-8120-a55d460aa557",
   "metadata": {},
   "source": [
    "**5.** El sistema lineal\n",
    "\\begin{aligned}\n",
    "2 x_{1} - x_{2} + x_{3} &= -1, \\\\\n",
    "2 x_{1} + 2 x_{2} + 2 x_{3} &= 4, \\\\\n",
    "- x_{1} - x_{2} + 2 x_{3} &= -5,\n",
    "\\end{aligned}\n",
    "\n",
    "tiene la solución (1, 2, -1)\n",
    "\n",
    "**a)** Muestre que el método de Jacobi con x(0) = 0 falla al proporcionar una buena aproximación\n",
    "después de 25 iteraciones.\n",
    "**b)** Utilice el método de Gauss-Siedel con x(0) = 0:para aproximar la solución para el sistema lineal\n",
    "dentro de $10^{−5}$.\n"
   ]
  },
  {
   "cell_type": "markdown",
   "id": "35c40f37-215b-4d45-af1a-a55697d8d7d2",
   "metadata": {},
   "source": [
    "**6.** El sistema lineal\n",
    "\\begin{gather*}\n",
    "x_{1} \\quad - x_{3} = 0.2, \\\\\n",
    "-\\frac{1}{2} x_{1} + x_{2} - \\frac{1}{4} x_{3} = -1.425, \\\\\n",
    "x_{1} - \\frac{1}{2} x_{2} + x_{3} = 2,\n",
    "\\end{gather*}\n",
    "tiene la solución (0.9, -0.8, 0.7)\n",
    "\n",
    "**a.)** ¿La matriz de coeficientes \n",
    "\\begin{gather*}\n",
    "A = \\begin{bmatrix}\n",
    "1 & 0 & -1 \\\\\n",
    "-\\frac{1}{2} & 1 & -\\frac{1}{4} \\\\\n",
    "1 & -\\frac{1}{2} & 1\n",
    "\\end{bmatrix}\n",
    "\\end{gather*}\n",
    "tiene diagonal estrictamente dominante?\n",
    "\n",
    "**b)** Utilice el método iterativo de Gauss-Siedel para aproximar la solución para el sistema lineal con\n",
    "una tolerancia de 1e-22 y un máximo de 300 iteraciones.\n",
    "\n",
    "**c)** ¿Qué pasa en la parte b) cuando el sistema cambia por el siguiente?\n",
    "\\begin{gather*}\n",
    "x_{1} - 2 x_{3} = 0.2, \\\\\n",
    "-\\frac{1}{2} x_{1} + x_{2} - \\frac{1}{4} x_{3} = -1.425, \\\\\n",
    "x_{1} - \\frac{1}{2} x_{2} + x_{3} = 2.\n",
    "\\end{gather*}\n"
   ]
  },
  {
   "cell_type": "markdown",
   "id": "1ac6d6e2-8aba-4645-8b58-ccc795783012",
   "metadata": {},
   "source": [
    "**7.** Repita el ejercicio 11 usando el método de Jacobi"
   ]
  },
  {
   "cell_type": "markdown",
   "id": "1c163716-5173-4a92-867f-939e7a1112df",
   "metadata": {},
   "source": [
    "**8.** Un cable coaxial está formado por un conductor interno de 0.1 pulgadas cuadradas y un conductor externo\n",
    "de 0.5 pulgadas cuadradas. El potencial en un punto en la sección transversal del cable se describe\n",
    "mediante la ecuación de Laplace.\n",
    "Suponga que el conductor interno se mantiene en 0 volts y el conductor externo se mantiene en 110 volts. Aproximar\n",
    "el potencial entre los dos conductores requiere resolver el siguiente sistema lineal.\n",
    "\n",
    "\\begin{gather*}\n",
    "\\left[\n",
    "\\begin{array}{rrrrrrrrrrrr}\n",
    "4 & -1 & 0 & 0 & -1 & 0 & 0 & 0 & 0 & 0 & 0 & 0 \\\\\n",
    "-1 & 4 & -1 & 0 & 0 & 0 & 0 & 0 & 0 & 0 & 0 & 0 \\\\\n",
    "0 & -1 & 4 & -1 & 0 & 0 & 0 & 0 & 0 & 0 & 0 & 0 \\\\\n",
    "0 & 0 & -1 & 4 & 0 & -1 & 0 & 0 & 0 & 0 & 0 & 0 \\\\\n",
    "-1 & 0 & 0 & 0 & 4 & 0 & -1 & 0 & 0 & 0 & 0 & 0 \\\\\n",
    "0 & 0 & 0 & -1 & 0 & 4 & 0 & -1 & 0 & 0 & 0 & 0 \\\\\n",
    "0 & 0 & 0 & 0 & -1 & 0 & 4 & 0 & -1 & 0 & 0 & 0 \\\\\n",
    "0 & 0 & 0 & 0 & 0 & -1 & 0 & 4 & 0 & 0 & 0 & -1 \\\\\n",
    "0 & 0 & 0 & 0 & 0 & 0 & -1 & 0 & 4 & -1 & 0 & 0 \\\\\n",
    "0 & 0 & 0 & 0 & 0 & 0 & 0 & 0 & -1 & 4 & -1 & 0 \\\\\n",
    "0 & 0 & 0 & 0 & 0 & 0 & 0 & 0 & 0 & -1 & 4 & -1 \\\\\n",
    "0 & 0 & 0 & 0 & 0 & -1 & 0 & 0 & 0 & 0 & -1 & 4\n",
    "\\end{array}\n",
    "\\right]\n",
    "\\left[\n",
    "\\begin{array}{l}\n",
    "w_{1} \\\\\n",
    "w_{2} \\\\\n",
    "w_{3} \\\\\n",
    "w_{4} \\\\\n",
    "w_{5} \\\\\n",
    "w_{6} \\\\\n",
    "w_{7} \\\\\n",
    "w_{8} \\\\\n",
    "w_{9} \\\\\n",
    "w_{10} \\\\\n",
    "w_{11} \\\\\n",
    "w_{12}\n",
    "\\end{array}\n",
    "\\right]\n",
    "=\n",
    "\\left[\n",
    "\\begin{array}{l}\n",
    "220 \\\\\n",
    "110 \\\\\n",
    "110 \\\\\n",
    "220 \\\\\n",
    "110 \\\\\n",
    "110 \\\\\n",
    "110 \\\\\n",
    "110 \\\\\n",
    "220 \\\\\n",
    "110 \\\\\n",
    "110 \\\\\n",
    "220\n",
    "\\end{array}\n",
    "\\right]\n",
    "\\end{gather*}"
   ]
  },
  {
   "cell_type": "markdown",
   "id": "01e49a8d-3e2e-41ba-a817-4dcaaf58654a",
   "metadata": {},
   "source": [
    "**a)** ¿La matriz es estrictamente diagonalmente dominante?\n",
    "\n",
    "*Si, todas las filas cumplen con el requisito*\n",
    "\n",
    "**b)** Resuelva el sistema lineal usando el método de Jacobi con x(0) = 0 y TOL = 10-2.\n",
    "\n",
    "**c)** Repita la parte b) mediante el método de Gauss-Siedel."
   ]
  }
 ],
 "metadata": {
  "kernelspec": {
   "display_name": "Python 3 (ipykernel)",
   "language": "python",
   "name": "python3"
  },
  "language_info": {
   "codemirror_mode": {
    "name": "ipython",
    "version": 3
   },
   "file_extension": ".py",
   "mimetype": "text/x-python",
   "name": "python",
   "nbconvert_exporter": "python",
   "pygments_lexer": "ipython3",
   "version": "3.11.10"
  }
 },
 "nbformat": 4,
 "nbformat_minor": 5
}
