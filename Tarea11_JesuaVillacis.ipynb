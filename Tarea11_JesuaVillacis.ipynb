{
 "cells": [
  {
   "cell_type": "raw",
   "id": "9b79e2a1-ff52-4efd-b894-034e8e18e0f2",
   "metadata": {},
   "source": [
    "---\n",
    "title: \"Tarea 11\"\n",
    "author: \"Jesua Villacis\"\n",
    "lang: es\n",
    "format:\n",
    " pdf:\n",
    "  toc: false\n",
    "execute:\n",
    " echo: false\n",
    " error: false\n",
    " warning: false\n",
    "jupyter: python3\n",
    "---"
   ]
  },
  {
   "cell_type": "markdown",
   "id": "01ed0265-61c7-419f-9207-0404cb6b855a",
   "metadata": {},
   "source": [
    "## Link al notebook con las celdas de python para la resolucion de los ejercicios\n",
    "https://github.com/JesuaVAlc/Deberes-Metodos-Numericos/blob/main/Tarea11_JesuaVillacis.ipynb"
   ]
  },
  {
   "cell_type": "markdown",
   "id": "4812af1c-e79a-431b-aedc-f78f1c356db9",
   "metadata": {},
   "source": [
    "**1.** Encuentre las primeras dos iteraciones del método de Jacobi para los siguientes sistemas lineales, por\n",
    "medio de $𝐱^{(𝟎)} = 0$:\n"
   ]
  },
  {
   "cell_type": "code",
   "execution_count": 2,
   "id": "e82bec66-223e-487c-ba38-d855993502db",
   "metadata": {},
   "outputs": [],
   "source": [
    "import numpy as np"
   ]
  },
  {
   "cell_type": "code",
   "execution_count": 53,
   "id": "c7871c0a-d271-4e87-8fee-973a4317cdd5",
   "metadata": {},
   "outputs": [],
   "source": [
    "def gauss_jacobi(A, b, tol, max_iter, x0=None):\n",
    "    n = len(b)\n",
    "    x = np.zeros(n) if x0 is None else x0.copy()\n",
    "    x_new = np.zeros(n)\n",
    "\n",
    "    for k in range(max_iter):\n",
    "        for i in range(n):\n",
    "            s = sum(A[i][j] * x[j] for j in range(n) if j != i)\n",
    "            x_new[i] = (b[i] - s) / A[i][i]\n",
    "        \n",
    "        if k < 50:\n",
    "            print(f\"Iteración {k+1}: {x_new}\")\n",
    "        elif k == 100:\n",
    "            print(\"\\n...Aún se están realizando iteraciones...\\n\")\n",
    "\n",
    "        if np.linalg.norm(x_new - x, ord=np.inf) < tol:\n",
    "            return x_new\n",
    "        \n",
    "        x[:] = x_new\n",
    "\n",
    "    return x\n",
    "\n",
    "def gauss_seidel(A, b, tol, max_iter, x0=None):\n",
    "    n = len(b)\n",
    "    x = np.zeros(n) if x0 is None else x0.copy()\n",
    "\n",
    "    for k in range(max_iter):\n",
    "        x_old = x.copy()\n",
    "        for i in range(n):\n",
    "            s1 = sum(A[i][j] * x[j] for j in range(i))\n",
    "            s2 = sum(A[i][j] * x_old[j] for j in range(i + 1, n))\n",
    "            x[i] = (b[i] - s1 - s2) / A[i][i]\n",
    "\n",
    "        if k < 50:\n",
    "            print(f\"Iteración {k+1}: {x}\")\n",
    "        elif k == 100:\n",
    "            print(\"\\n...Aún se están realizando iteraciones...\\n\")\n",
    "\n",
    "        if np.linalg.norm(x - x_old, ord=np.inf) < tol:\n",
    "            return x\n",
    "\n",
    "    return x"
   ]
  },
  {
   "cell_type": "markdown",
   "id": "31a9f99a-38fe-48aa-b8d6-280505058925",
   "metadata": {},
   "source": [
    "**a)**\n",
    "\\begin{gather*}\n",
    "3 x_{1} - x_{2} + x_{3} = 1, \\\\\n",
    "3 x_{1} + 6 x_{2} + 2 x_{3} = 0, \\\\\n",
    "3 x_{1} + 3 x_{2} + 7 x_{3} = 4.\n",
    "\\end{gather*}"
   ]
  },
  {
   "cell_type": "code",
   "execution_count": 31,
   "id": "66b38ec6-cfea-4a32-90ba-879b8baa6510",
   "metadata": {},
   "outputs": [
    {
     "name": "stdout",
     "output_type": "stream",
     "text": [
      "Iteración 1: [0.33333333 0.         0.57142857]\n",
      "Iteración 2: [ 0.14285714 -0.35714286  0.42857143]\n",
      "Resultado:\n",
      " [ 0.14285714 -0.35714286  0.42857143]\n"
     ]
    }
   ],
   "source": [
    "A = np.array([[3, -1, 1],\n",
    "              [3, 6, 2],\n",
    "              [3, 3, 7]], dtype=float)\n",
    "\n",
    "b = np.array([1, 0, 4], dtype=float)\n",
    "print('Resultado:\\n',gauss_jacobi(A, b, 1e-2, 2))"
   ]
  },
  {
   "cell_type": "markdown",
   "id": "ecf52b33-e5b2-4862-a9e9-35cb05bfe0c5",
   "metadata": {},
   "source": [
    "**b)**\n",
    "\\begin{gather*}\n",
    "10 x_{1} - x_{2} = 9, \\\\\n",
    "- x_{1} + 10 x_{2} - 2 x_{3} = 7, \\\\\n",
    "-2x_2+10x_3=6\n",
    "\\end{gather*}"
   ]
  },
  {
   "cell_type": "code",
   "execution_count": 32,
   "id": "a0f4bb08-eb20-4cea-8e5b-37229788f482",
   "metadata": {},
   "outputs": [
    {
     "name": "stdout",
     "output_type": "stream",
     "text": [
      "Iteración 1: [0.9 0.7 0.6]\n",
      "Iteración 2: [0.97 0.91 0.74]\n",
      "Resultado:\n",
      " [0.97 0.91 0.74]\n"
     ]
    }
   ],
   "source": [
    "A = np.array([[10, -1, 0],\n",
    "              [-1, 10, -2],\n",
    "              [0, -2, 10]], dtype=float)\n",
    "b = np.array([9, 7, 6], dtype=float)\n",
    "print('Resultado:\\n',gauss_jacobi(A, b, 1e-2, 2))"
   ]
  },
  {
   "cell_type": "markdown",
   "id": "60db4240-0c1c-4a15-9418-380187c3ca92",
   "metadata": {},
   "source": [
    "**c)**\n",
    "\\begin{gather*}\n",
    "10 x_{1} + 5 x_{2} = 6,\\\\\n",
    "5 x_{1} + 10 x_{2} - 4 x_{3} = 25, \\\\\n",
    "-4 x_{2} + 8 x_{3} - x_{4} = -11, \\\\\n",
    "- x_{3} + 5 x_{4} = -11, \\\\\n",
    "\\end{gather*}"
   ]
  },
  {
   "cell_type": "code",
   "execution_count": 33,
   "id": "cb5caf2d-ece8-4a82-8a8a-9db9f6a23f33",
   "metadata": {},
   "outputs": [
    {
     "name": "stdout",
     "output_type": "stream",
     "text": [
      "Iteración 1: [ 0.6    2.5   -1.375 -2.2  ]\n",
      "Iteración 2: [-0.65   1.65  -0.4   -2.475]\n",
      "Resultado:\n",
      " [-0.65   1.65  -0.4   -2.475]\n"
     ]
    }
   ],
   "source": [
    "A = np.array([[10, 5, 0, 0],\n",
    "              [5, 10, -4, 0],\n",
    "              [0, -4, 8, -1],\n",
    "              [0, 0, -1, 5]], dtype=float)\n",
    "b = np.array([6, 25, -11, -11], dtype=float)\n",
    "print('Resultado:\\n',gauss_jacobi(A, b, 1e-2, 2))"
   ]
  },
  {
   "cell_type": "markdown",
   "id": "01d467b2-7ab0-4007-9b0f-d039435e4d5d",
   "metadata": {},
   "source": [
    "**d)**\n",
    "\\begin{gather*}\n",
    "4 x_{1} + x_{2} + x_{3} + x_{5} = 6, \\\\\n",
    "- x_{1} - 3 x_{2} + x_{3} + x_{4} = 6, \\\\\n",
    "2 x_{1} + x_{2} + 5 x_{3} - x_{4} - x_{5} = 6, \\\\\n",
    "- x_{1} - x_{2} - x_{3} + 4 x_{4} = 6,\n",
    "\\end{gather*}"
   ]
  },
  {
   "cell_type": "code",
   "execution_count": 34,
   "id": "9289d591-11ed-4b84-9a39-d1f72d510058",
   "metadata": {},
   "outputs": [
    {
     "name": "stdout",
     "output_type": "stream",
     "text": [
      "Iteración 1: [ 1.5 -2.   1.2  1.5  1.5]\n",
      "Iteración 2: [ 1.325 -1.6    1.6    1.675  2.425]\n",
      "Resultado:\n",
      " [ 1.325 -1.6    1.6    1.675  2.425]\n"
     ]
    }
   ],
   "source": [
    "A = np.array([[4, 1, 1, 0, 1],\n",
    "              [-1, -3, 1, 1, 0],\n",
    "              [2, 1, 5, -1, -1],\n",
    "              [-1, -1, -1, 4, 0],\n",
    "              [0, 2, -1, 1, 4]], dtype=float)\n",
    "b = np.array([6, 6, 6, 6, 6], dtype=float)\n",
    "print('Resultado:\\n',gauss_jacobi(A, b, 1e-2, 2))"
   ]
  },
  {
   "cell_type": "markdown",
   "id": "f2febfef-6272-44a5-a6d9-26615b690680",
   "metadata": {},
   "source": [
    "**2.** Repita el ejercicio 1 usando el método de Gauss-Siedel."
   ]
  },
  {
   "cell_type": "markdown",
   "id": "8e0e5fe1-922f-40e4-af17-13d7dca97b7b",
   "metadata": {},
   "source": [
    "**a)**"
   ]
  },
  {
   "cell_type": "code",
   "execution_count": 38,
   "id": "6402632f-9899-4efd-9e9b-0630e5858afd",
   "metadata": {},
   "outputs": [
    {
     "name": "stdout",
     "output_type": "stream",
     "text": [
      "Iteración 1: [ 0.33333333 -0.16666667  0.5       ]\n",
      "Iteración 2: [ 0.11111111 -0.22222222  0.61904762]\n",
      "Resultado en dos iteraciones:\n",
      " [ 0.11111111 -0.22222222  0.61904762]\n"
     ]
    }
   ],
   "source": [
    "A = np.array([[3, -1, 1],\n",
    "              [3, 6, 2],\n",
    "              [3, 3, 7]], dtype=float)\n",
    "\n",
    "b = np.array([1, 0, 4], dtype=float)\n",
    "print('Resultado en dos iteraciones:\\n',gauss_seidel(A, b, 1e-2, 2))"
   ]
  },
  {
   "cell_type": "markdown",
   "id": "2f44c60c-05b9-41ec-9dc2-035c2aa63884",
   "metadata": {},
   "source": [
    "**b)**"
   ]
  },
  {
   "cell_type": "code",
   "execution_count": 37,
   "id": "1e730476-bb45-4877-9f33-79fa3c026cec",
   "metadata": {},
   "outputs": [
    {
     "name": "stdout",
     "output_type": "stream",
     "text": [
      "Iteración 1: [0.9   0.79  0.758]\n",
      "Iteración 2: [0.979  0.9495 0.7899]\n",
      "Resultado en dos iteraciones:\n",
      " [0.979  0.9495 0.7899]\n"
     ]
    }
   ],
   "source": [
    "A = np.array([[10, -1, 0],\n",
    "              [-1, 10, -2],\n",
    "              [0, -2, 10]], dtype=float)\n",
    "b = np.array([9, 7, 6], dtype=float)\n",
    "print('Resultado en dos iteraciones:\\n',gauss_seidel(A, b, 1e-2, 2))"
   ]
  },
  {
   "cell_type": "markdown",
   "id": "e6a5c148-84a4-4b7e-94db-eb624040d41f",
   "metadata": {},
   "source": [
    "**c)**"
   ]
  },
  {
   "cell_type": "code",
   "execution_count": 36,
   "id": "808acaa4-3609-4da8-bc2e-fe80bc197203",
   "metadata": {},
   "outputs": [
    {
     "name": "stdout",
     "output_type": "stream",
     "text": [
      "Iteración 1: [ 0.6    2.2   -0.275 -2.255]\n",
      "Iteración 2: [-0.5       2.64     -0.336875 -2.267375]\n",
      "Resultado en dos iteraciones:\n",
      " [-0.5       2.64     -0.336875 -2.267375]\n"
     ]
    }
   ],
   "source": [
    "A = np.array([[10, 5, 0, 0],\n",
    "              [5, 10, -4, 0],\n",
    "              [0, -4, 8, -1],\n",
    "              [0, 0, -1, 5]], dtype=float)\n",
    "b = np.array([6, 25, -11, -11], dtype=float)\n",
    "print('Resultado en dos iteraciones:\\n',gauss_seidel(A, b, 1e-2, 2))"
   ]
  },
  {
   "cell_type": "markdown",
   "id": "aa759687-4d08-400e-864f-27c76c0bfbaa",
   "metadata": {},
   "source": [
    "**d)**"
   ]
  },
  {
   "cell_type": "code",
   "execution_count": 35,
   "id": "3daafcca-507c-456c-9561-2ca0d3a6f35c",
   "metadata": {},
   "outputs": [
    {
     "name": "stdout",
     "output_type": "stream",
     "text": [
      "Iteración 1: [ 1.5     -2.5      1.1      1.525    2.64375]\n",
      "Iteración 2: [ 1.1890625  -1.52135417  1.86239583  1.88252604  2.25564453]\n",
      "Resultado en dos iteraciones:\n",
      " [ 1.1890625  -1.52135417  1.86239583  1.88252604  2.25564453]\n"
     ]
    }
   ],
   "source": [
    "A = np.array([[4, 1, 1, 0, 1],\n",
    "              [-1, -3, 1, 1, 0],\n",
    "              [2, 1, 5, -1, -1],\n",
    "              [-1, -1, -1, 4, 0],\n",
    "              [0, 2, -1, 1, 4]], dtype=float)\n",
    "b = np.array([6, 6, 6, 6, 6], dtype=float)\n",
    "print('Resultado en dos iteraciones:\\n',gauss_seidel(A, b, 1e-2, 2))"
   ]
  },
  {
   "cell_type": "markdown",
   "id": "ea2344e3-0f18-4e06-b628-8face984b424",
   "metadata": {},
   "source": [
    "**3.** Utilice el método de Jacobi para resolver los sistemas lineales en el ejercicio 1, con TOL = 10-3."
   ]
  },
  {
   "cell_type": "markdown",
   "id": "85e99349-ed6a-4e34-a09e-22121aab9d8e",
   "metadata": {},
   "source": [
    "**a)**"
   ]
  },
  {
   "cell_type": "code",
   "execution_count": 21,
   "id": "c6156768-bc4d-4a3f-a41f-3ca7b07eca3d",
   "metadata": {},
   "outputs": [
    {
     "name": "stdout",
     "output_type": "stream",
     "text": [
      "Iteración 1: [0.33333333 0.         0.57142857]\n",
      "Iteración 2: [ 0.14285714 -0.35714286  0.42857143]\n",
      "Iteración 3: [ 0.07142857 -0.21428571  0.66326531]\n",
      "Iteración 4: [ 0.04081633 -0.25680272  0.63265306]\n",
      "Iteración 5: [ 0.03684807 -0.23129252  0.66399417]\n",
      "Iteración 6: [ 0.03490444 -0.23975543  0.6547619 ]\n",
      "Resultado:\n",
      " [ 0.03490444 -0.23975543  0.6547619 ]\n"
     ]
    }
   ],
   "source": [
    "A = np.array([[3, -1, 1],\n",
    "              [3, 6, 2],\n",
    "              [3, 3, 7]], dtype=float)\n",
    "\n",
    "b = np.array([1, 0, 4], dtype=float)\n",
    "print('Resultado:\\n',gauss_jacobi(A, b, 1e-2, 100))"
   ]
  },
  {
   "cell_type": "markdown",
   "id": "043e8fc5-4e9b-4587-9d45-ce9d0d8c1c94",
   "metadata": {},
   "source": [
    "**b)**"
   ]
  },
  {
   "cell_type": "code",
   "execution_count": 22,
   "id": "7233f1d8-ba11-435c-81a3-8c1ef7d66c48",
   "metadata": {},
   "outputs": [
    {
     "name": "stdout",
     "output_type": "stream",
     "text": [
      "Iteración 1: [0.9 0.7 0.6]\n",
      "Iteración 2: [0.97 0.91 0.74]\n",
      "Iteración 3: [0.991 0.945 0.782]\n",
      "Iteración 4: [0.9945 0.9555 0.789 ]\n",
      "Iteración 5: [0.99555 0.95725 0.7911 ]\n",
      "Resultado:\n",
      " [0.99555 0.95725 0.7911 ]\n"
     ]
    }
   ],
   "source": [
    "A = np.array([[10, -1, 0],\n",
    "              [-1, 10, -2],\n",
    "              [0, -2, 10]], dtype=float)\n",
    "b = np.array([9, 7, 6], dtype=float)\n",
    "print('Resultado:\\n',gauss_jacobi(A, b, 1e-2, 100))"
   ]
  },
  {
   "cell_type": "markdown",
   "id": "908febd9-3652-4456-ab1b-8cb909abdba0",
   "metadata": {},
   "source": [
    "**c)**"
   ]
  },
  {
   "cell_type": "code",
   "execution_count": 23,
   "id": "b5c3b077-2bc5-42d9-98ce-b10469a1026f",
   "metadata": {},
   "outputs": [
    {
     "name": "stdout",
     "output_type": "stream",
     "text": [
      "Iteración 1: [ 0.6    2.5   -1.375 -2.2  ]\n",
      "Iteración 2: [-0.65   1.65  -0.4   -2.475]\n",
      "Iteración 3: [-0.225     2.665    -0.859375 -2.28    ]\n",
      "Iteración 4: [-0.7325    2.26875  -0.3275   -2.371875]\n",
      "Iteración 5: [-0.534375    2.73525    -0.53710938 -2.2655    ]\n",
      "Iteración 6: [-0.767625    2.55234375 -0.2905625  -2.30742188]\n",
      "Iteración 7: [-0.67617187  2.7675875  -0.38725586 -2.2581125 ]\n",
      "Iteración 8: [-0.78379375  2.68318359 -0.27347031 -2.27745117]\n",
      "Iteración 9: [-0.7415918   2.78250875 -0.3180896  -2.25469406]\n",
      "Iteración 10: [-0.79125437  2.74356006 -0.26558238 -2.26361792]\n",
      "Iteración 11: [-0.77178003  2.78939423 -0.28617221 -2.25311648]\n",
      "Iteración 12: [-0.79469712  2.77142113 -0.26194244 -2.25723444]\n",
      "Iteración 13: [-0.78571057  2.79257158 -0.27144374 -2.25238849]\n",
      "Iteración 14: [-0.79628579  2.78427779 -0.26026277 -2.25428875]\n",
      "Iteración 15: [-0.79213889  2.79403779 -0.2646472  -2.25205255]\n",
      "Resultado:\n",
      " [-0.79213889  2.79403779 -0.2646472  -2.25205255]\n"
     ]
    }
   ],
   "source": [
    "A = np.array([[10, 5, 0, 0],\n",
    "              [5, 10, -4, 0],\n",
    "              [0, -4, 8, -1],\n",
    "              [0, 0, -1, 5]], dtype=float)\n",
    "b = np.array([6, 25, -11, -11], dtype=float)\n",
    "print('Resultado:\\n',gauss_jacobi(A, b, 1e-2, 100))"
   ]
  },
  {
   "cell_type": "markdown",
   "id": "c6c01189-e14a-42b3-8709-97a6e1d0da4a",
   "metadata": {},
   "source": [
    "**d)**"
   ]
  },
  {
   "cell_type": "code",
   "execution_count": 24,
   "id": "c684415a-0ce8-4ad1-a130-626d5f595275",
   "metadata": {},
   "outputs": [
    {
     "name": "stdout",
     "output_type": "stream",
     "text": [
      "Iteración 1: [ 1.5 -2.   1.2  1.5  1.5]\n",
      "Iteración 2: [ 1.325 -1.6    1.6    1.675  2.425]\n",
      "Iteración 3: [ 0.89375 -1.35     1.81     1.83125  2.28125]\n",
      "Iteración 4: [ 0.8146875  -1.08416667  1.935       1.8384375   2.1696875 ]\n",
      "Iteración 5: [ 0.74486979 -1.01375     1.89258333  1.91638021  2.06622396]\n",
      "Iteración 6: [ 0.76373568 -0.97863542  1.90132292  1.90592578  2.00092578]\n",
      "Iteración 7: [ 0.76909668 -0.98549566  1.87160313  1.92160579  1.98816699]\n",
      "Iteración 8: [ 0.78143139 -0.99196259  1.87141502  1.91380104  1.98024716]\n",
      "Iteración 9: [ 0.7850751  -0.99873844  1.8646296   1.91522095  1.98538479]\n",
      "Resultado:\n",
      " [ 0.7850751  -0.99873844  1.8646296   1.91522095  1.98538479]\n"
     ]
    }
   ],
   "source": [
    "A = np.array([[4, 1, 1, 0, 1],\n",
    "              [-1, -3, 1, 1, 0],\n",
    "              [2, 1, 5, -1, -1],\n",
    "              [-1, -1, -1, 4, 0],\n",
    "              [0, 2, -1, 1, 4]], dtype=float)\n",
    "b = np.array([6, 6, 6, 6, 6], dtype=float)\n",
    "print('Resultado:\\n',gauss_jacobi(A, b, 1e-2, 100))"
   ]
  },
  {
   "cell_type": "markdown",
   "id": "f5bb6649-4f74-40b3-8999-018363792f1c",
   "metadata": {},
   "source": [
    "**4.** Utilice el método de Gauss-Siedel para resolver los sistemas lineales en el ejercicio 1, con TOL = 10-3."
   ]
  },
  {
   "cell_type": "markdown",
   "id": "864410a1-2859-41ce-b388-f22027025308",
   "metadata": {},
   "source": [
    "**a)**"
   ]
  },
  {
   "cell_type": "code",
   "execution_count": 25,
   "id": "b02a09cd-59f9-4b22-84e3-23c977a17031",
   "metadata": {},
   "outputs": [
    {
     "name": "stdout",
     "output_type": "stream",
     "text": [
      "Iteración 1: [ 0.33333333 -0.16666667  0.5       ]\n",
      "Iteración 2: [ 0.11111111 -0.22222222  0.61904762]\n",
      "Iteración 3: [ 0.05291005 -0.23280423  0.64852608]\n",
      "Iteración 4: [ 0.03955656 -0.23595364  0.65559875]\n",
      "Iteración 5: [ 0.0361492  -0.23660752  0.65733928]\n",
      "Resultado:\n",
      " [ 0.0361492  -0.23660752  0.65733928]\n"
     ]
    }
   ],
   "source": [
    "A = np.array([[3, -1, 1],\n",
    "              [3, 6, 2],\n",
    "              [3, 3, 7]], dtype=float)\n",
    "\n",
    "b = np.array([1, 0, 4], dtype=float)\n",
    "print('Resultado:\\n',gauss_seidel(A, b, 1e-2, 100))"
   ]
  },
  {
   "cell_type": "markdown",
   "id": "6fcc852b-d1d7-4f0b-a3fc-123981ed2b75",
   "metadata": {},
   "source": [
    "**b)**"
   ]
  },
  {
   "cell_type": "code",
   "execution_count": 26,
   "id": "84311421-2d1c-453a-8aab-519a1cfeab0f",
   "metadata": {},
   "outputs": [
    {
     "name": "stdout",
     "output_type": "stream",
     "text": [
      "Iteración 1: [0.9   0.79  0.758]\n",
      "Iteración 2: [0.979  0.9495 0.7899]\n",
      "Iteración 3: [0.99495  0.957475 0.791495]\n",
      "Iteración 4: [0.9957475  0.95787375 0.79157475]\n",
      "Resultado:\n",
      " [0.9957475  0.95787375 0.79157475]\n"
     ]
    }
   ],
   "source": [
    "A = np.array([[10, -1, 0],\n",
    "              [-1, 10, -2],\n",
    "              [0, -2, 10]], dtype=float)\n",
    "b = np.array([9, 7, 6], dtype=float)\n",
    "print('Resultado:\\n',gauss_seidel(A, b, 1e-2, 100))"
   ]
  },
  {
   "cell_type": "markdown",
   "id": "a0165c27-fd42-420c-a984-475fbc8e0e11",
   "metadata": {},
   "source": [
    "**c)**"
   ]
  },
  {
   "cell_type": "code",
   "execution_count": 27,
   "id": "e7d6dfa6-8727-483d-90c8-9fcc354a6cd0",
   "metadata": {},
   "outputs": [
    {
     "name": "stdout",
     "output_type": "stream",
     "text": [
      "Iteración 1: [ 0.6    2.2   -0.275 -2.255]\n",
      "Iteración 2: [-0.5       2.64     -0.336875 -2.267375]\n",
      "Iteración 3: [-0.72        2.72525    -0.29579688 -2.25915938]\n",
      "Iteración 4: [-0.762625    2.76299375 -0.27589805 -2.25517961]\n",
      "Iteración 5: [-0.78149687  2.78038922 -0.26670284 -2.25334057]\n",
      "Iteración 6: [-0.79019461  2.78841617 -0.26245949 -2.2524919 ]\n",
      "Resultado:\n",
      " [-0.79019461  2.78841617 -0.26245949 -2.2524919 ]\n"
     ]
    }
   ],
   "source": [
    "A = np.array([[10, 5, 0, 0],\n",
    "              [5, 10, -4, 0],\n",
    "              [0, -4, 8, -1],\n",
    "              [0, 0, -1, 5]], dtype=float)\n",
    "b = np.array([6, 25, -11, -11], dtype=float)\n",
    "print('Resultado:\\n',gauss_seidel(A, b, 1e-2, 100))"
   ]
  },
  {
   "cell_type": "markdown",
   "id": "bb595f9c-7c9b-41a6-879c-de8293e563c8",
   "metadata": {},
   "source": [
    "**d)**"
   ]
  },
  {
   "cell_type": "code",
   "execution_count": 28,
   "id": "974b3984-4361-429b-898a-33b29d24f147",
   "metadata": {},
   "outputs": [
    {
     "name": "stdout",
     "output_type": "stream",
     "text": [
      "Iteración 1: [ 1.5     -2.5      1.1      1.525    2.64375]\n",
      "Iteración 2: [ 1.1890625  -1.52135417  1.86239583  1.88252604  2.25564453]\n",
      "Iteración 3: [ 0.85082845 -1.03530219  1.89436317  1.92747236  2.0093738 ]\n",
      "Iteración 4: [ 0.7828913  -0.98701859  1.87161643  1.91687229  1.98219533]\n",
      "Iteración 5: [ 0.78330171 -0.998271    1.86614704  1.91279444  1.98747365]\n",
      "Iteración 6: [ 0.78616258 -1.00240703  1.86606999  1.91245638  1.98960692]\n",
      "Resultado:\n",
      " [ 0.78616258 -1.00240703  1.86606999  1.91245638  1.98960692]\n"
     ]
    }
   ],
   "source": [
    "A = np.array([[4, 1, 1, 0, 1],\n",
    "              [-1, -3, 1, 1, 0],\n",
    "              [2, 1, 5, -1, -1],\n",
    "              [-1, -1, -1, 4, 0],\n",
    "              [0, 2, -1, 1, 4]], dtype=float)\n",
    "b = np.array([6, 6, 6, 6, 6], dtype=float)\n",
    "print('Resultado:\\n',gauss_seidel(A, b, 1e-2, 100))"
   ]
  },
  {
   "cell_type": "markdown",
   "id": "322a7995-899c-4204-8120-a55d460aa557",
   "metadata": {},
   "source": [
    "**5.** El sistema lineal\n",
    "\\begin{align*}\n",
    "2 x_{1} - x_{2} + x_{3} &= -1, \\\\\n",
    "2 x_{1} + 2 x_{2} + 2 x_{3} &= 4, \\\\\n",
    "- x_{1} - x_{2} + 2 x_{3} &= -5,\n",
    "\\end{align*}\n",
    "\n",
    "tiene la solución (1, 2, -1)\n",
    "\n",
    "**a)** Muestre que el método de Jacobi con x(0) = 0 falla al proporcionar una buena aproximación\n",
    "después de 25 iteraciones.\n"
   ]
  },
  {
   "cell_type": "code",
   "execution_count": 29,
   "id": "e4ff959b-1d39-4798-a6b1-1349e5a96b95",
   "metadata": {},
   "outputs": [
    {
     "name": "stdout",
     "output_type": "stream",
     "text": [
      "Iteración 1: [-0.5  2.  -2.5]\n",
      "Iteración 2: [ 1.75  5.   -1.75]\n",
      "Iteración 3: [2.875 2.    0.875]\n",
      "Iteración 4: [ 0.0625 -1.75   -0.0625]\n",
      "Iteración 5: [-1.34375  2.      -3.34375]\n",
      "Iteración 6: [ 2.171875  6.6875   -2.171875]\n",
      "Iteración 7: [3.9296875 2.        1.9296875]\n",
      "Iteración 8: [-0.46484375 -3.859375    0.46484375]\n",
      "Iteración 9: [-2.66210938  2.         -4.66210938]\n",
      "Iteración 10: [ 2.83105469  9.32421875 -2.83105469]\n",
      "Iteración 11: [5.57763672 2.         3.57763672]\n",
      "Iteración 12: [-1.28881836 -7.15527344  1.28881836]\n",
      "Iteración 13: [-4.7220459  2.        -6.7220459]\n",
      "Iteración 14: [ 3.86102295 13.4440918  -3.86102295]\n",
      "Iteración 15: [8.15255737 2.         6.15255737]\n",
      "Iteración 16: [ -2.57627869 -12.30511475   2.57627869]\n",
      "Iteración 17: [-7.94069672  2.         -9.94069672]\n",
      "Iteración 18: [ 5.47034836 19.88139343 -5.47034836]\n",
      "Iteración 19: [12.1758709  2.        10.1758709]\n",
      "Iteración 20: [ -4.58793545 -20.35174179   4.58793545]\n",
      "Iteración 21: [-12.96983862   2.         -14.96983862]\n",
      "Iteración 22: [ 7.98491931 29.93967724 -7.98491931]\n",
      "Iteración 23: [18.46229827  2.         16.46229827]\n",
      "Iteración 24: [ -7.73114914 -32.92459655   7.73114914]\n",
      "Iteración 25: [-20.82787284   2.         -22.82787284]\n",
      "Resultado en 25 iteraciones:\n",
      " [-20.82787284   2.         -22.82787284]\n"
     ]
    }
   ],
   "source": [
    "A = np.array([[2, -1, 1],\n",
    "              [2, 2, 2],\n",
    "              [-1, -1, 2]])\n",
    "b = np.array([-1, 4, -5])\n",
    "print('Resultado en 25 iteraciones:\\n',gauss_jacobi(A, b, 1e-2, 25))\n"
   ]
  },
  {
   "cell_type": "markdown",
   "id": "cf0cc84d-d351-48cd-8497-1b14d8f09fb6",
   "metadata": {},
   "source": [
    "**b)** Utilice el método de Gauss-Siedel con x(0) = 0:para aproximar la solución para el sistema lineal\n",
    "dentro de $10^{−5}$.\n"
   ]
  },
  {
   "cell_type": "code",
   "execution_count": 30,
   "id": "2cc2923d-e8b8-43c5-9fde-7f54d0ed6338",
   "metadata": {},
   "outputs": [
    {
     "name": "stdout",
     "output_type": "stream",
     "text": [
      "Iteración 1: [-0.5  2.5 -1.5]\n",
      "Iteración 2: [ 1.5   2.   -0.75]\n",
      "Iteración 3: [ 0.875  1.875 -1.125]\n",
      "Iteración 4: [ 1.      2.125  -0.9375]\n",
      "Iteración 5: [ 1.03125  1.90625 -1.03125]\n",
      "Iteración 6: [ 0.96875   2.0625   -0.984375]\n",
      "Iteración 7: [ 1.0234375  1.9609375 -1.0078125]\n",
      "Iteración 8: [ 0.984375    2.0234375  -0.99609375]\n",
      "Iteración 9: [ 1.00976562  1.98632812 -1.00195312]\n",
      "Iteración 10: [ 0.99414062  2.0078125  -0.99902344]\n",
      "Iteración 11: [ 1.00341797  1.99560547 -1.00048828]\n",
      "Iteración 12: [ 0.99804688  2.00244141 -0.99975586]\n",
      "Iteración 13: [ 1.00109863  1.99865723 -1.00012207]\n",
      "Iteración 14: [ 0.99938965  2.00073242 -0.99993896]\n",
      "Iteración 15: [ 1.00033569  1.99960327 -1.00003052]\n",
      "Iteración 16: [ 0.99981689  2.00021362 -0.99998474]\n",
      "Iteración 17: [ 1.00009918  1.99988556 -1.00000763]\n",
      "Iteración 18: [ 0.99994659  2.00006104 -0.99999619]\n",
      "Iteración 19: [ 1.00002861  1.99996758 -1.00000191]\n",
      "Iteración 20: [ 0.99998474  2.00001717 -0.99999905]\n",
      "Iteración 21: [ 1.00000811  1.99999094 -1.00000048]\n",
      "Iteración 22: [ 0.99999571  2.00000477 -0.99999976]\n",
      "Iteración 23: [ 1.00000226  1.9999975  -1.00000012]\n",
      "Resultado con una tolerancia de 10e-5:\n",
      " [ 1.00000226  1.9999975  -1.00000012]\n"
     ]
    }
   ],
   "source": [
    "A = np.array([[2, -1, 1],\n",
    "              [2, 2, 2],\n",
    "              [-1, -1, 2]])\n",
    "b = np.array([-1, 4, -5])\n",
    "print('Resultado con una tolerancia de 10e-5:\\n',gauss_seidel(A, b, 1e-5, 100))"
   ]
  },
  {
   "cell_type": "markdown",
   "id": "35c40f37-215b-4d45-af1a-a55697d8d7d2",
   "metadata": {},
   "source": [
    "**6.** El sistema lineal\n",
    "\\begin{gather*}\n",
    "x_{1} \\quad - x_{3} = 0.2, \\\\\n",
    "-\\frac{1}{2} x_{1} + x_{2} - \\frac{1}{4} x_{3} = -1.425, \\\\\n",
    "x_{1} - \\frac{1}{2} x_{2} + x_{3} = 2,\n",
    "\\end{gather*}\n",
    "tiene la solución (0.9, -0.8, 0.7)\n",
    "\n",
    "\n"
   ]
  },
  {
   "cell_type": "markdown",
   "id": "b3032fe3-1ce0-4583-972e-9e7eae54aa3c",
   "metadata": {},
   "source": [
    "**a.)** ¿La matriz de coeficientes \n",
    "\\begin{align*}\n",
    "A = \\begin{bmatrix}\n",
    "1 & 0 & -1 \\\\\n",
    "-\\frac{1}{2} & 1 & -\\frac{1}{4} \\\\\n",
    "1 & -\\frac{1}{2} & 1\n",
    "\\end{bmatrix}\n",
    "\\end{align*}\n",
    "tiene diagonal estrictamente dominante?\n",
    "\n",
    "*R=* Si, tiene una diagonal estrictamente dominante, porque todos sus valores de la diagonal son mayores a la suma de los demas elementos de cada fila."
   ]
  },
  {
   "cell_type": "markdown",
   "id": "53c0fdc0-637d-44bd-9b78-88c049f581cc",
   "metadata": {},
   "source": [
    "\n",
    "**b)** Utilice el método iterativo de Gauss-Siedel para aproximar la solución para el sistema lineal con\n",
    "una tolerancia de 1e-22 y un máximo de 300 iteraciones."
   ]
  },
  {
   "cell_type": "code",
   "execution_count": 54,
   "id": "89c29f79-3829-410c-b7f4-9ae9536f0082",
   "metadata": {},
   "outputs": [
    {
     "name": "stdout",
     "output_type": "stream",
     "text": [
      "Iteración 1: [ 0.2    -1.525   1.0375]\n",
      "Iteración 2: [ 1.2375    -1.784375  -0.1296875]\n",
      "Iteración 3: [ 0.0703125  -1.49257813  1.18339844]\n",
      "Iteración 4: [ 1.38339844 -1.82084961 -0.29382324]\n",
      "Iteración 5: [-0.09382324 -1.45154419  1.36805115]\n",
      "Iteración 6: [ 1.56805115 -1.86701279 -0.50155754]\n",
      "Iteración 7: [-0.30155754 -1.39961061  1.60175223]\n",
      "Iteración 8: [ 1.80175223 -1.92543806 -0.76447126]\n",
      "Iteración 9: [-0.56447126 -1.33388218  1.89753017]\n",
      "Iteración 10: [ 2.09753017 -1.99938254 -1.09722144]\n",
      "Iteración 11: [-0.89722144 -1.25069464  2.27187412]\n",
      "Iteración 12: [ 2.47187412 -2.09296853 -1.51835839]\n",
      "Iteración 13: [-1.31835839 -1.1454104   2.74565319]\n",
      "Iteración 14: [ 2.94565319 -2.2114133  -2.05135983]\n",
      "Iteración 15: [-1.85135983 -1.01216004  3.34527981]\n",
      "Iteración 16: [ 3.54527981 -2.36131995 -2.72593979]\n",
      "Iteración 17: [-2.52593979 -0.84351505  4.10418226]\n",
      "Iteración 18: [ 4.30418226 -2.55104557 -3.57970505]\n",
      "Iteración 19: [-3.37970505 -0.63007374  5.06466818]\n",
      "Iteración 20: [ 5.26466818 -2.79116704 -4.6602517 ]\n",
      "Iteración 21: [-4.4602517  -0.35993708  6.28028316]\n",
      "Iteración 22: [ 6.48028316 -3.09507079 -6.02781856]\n",
      "Iteración 23: [-5.82781856 -0.01804536  7.81879588]\n",
      "Iteración 24: [ 8.01879588 -3.47969897 -7.75864536]\n",
      "Iteración 25: [-7.55864536  0.41466134  9.76597603]\n",
      "Iteración 26: [ 9.96597603 -3.96649401 -9.94922304]\n",
      "Iteración 27: [-9.74922304  0.96230576 12.23037592]\n",
      "Iteración 28: [ 12.43037592  -4.58259398 -12.7216729 ]\n",
      "Iteración 29: [-12.5216729    1.65541823  15.34938202]\n",
      "Iteración 30: [ 15.54938202  -5.3623455  -16.23055477]\n",
      "Iteración 31: [-16.03055477   2.53263869  19.29687412]\n",
      "Iteración 32: [ 19.49687412  -6.34921853 -20.67148338]\n",
      "Iteración 33: [-20.47148338   3.64287085  24.2929188 ]\n",
      "Iteración 34: [ 24.4929188   -7.5982297  -26.29203365]\n",
      "Iteración 35: [-26.09203365   5.04800841  30.61603786]\n",
      "Iteración 36: [ 30.81603786  -9.17900947 -33.40554259]\n",
      "Iteración 37: [-33.20554259   6.82638565  38.61873542]\n",
      "Iteración 38: [ 38.81873542 -11.17968385 -42.40857734]\n",
      "Iteración 39: [-42.20857734   9.07714434  48.74714951]\n",
      "Iteración 40: [ 48.94714951 -13.71178738 -53.8030432 ]\n",
      "Iteración 41: [-53.6030432  11.9257608  61.5659236]\n",
      "Iteración 42: [ 61.7659236  -16.9164809  -68.22416405]\n",
      "Iteración 43: [-68.02416405  15.53104101  77.78968456]\n",
      "Iteración 44: [ 77.98968456 -20.97242114 -86.47589513]\n",
      "Iteración 45: [-86.27589513  20.09397378  98.32288202]\n",
      "Iteración 46: [  98.52288202  -26.1057205  -109.57574227]\n",
      "Iteración 47: [-109.37574227   25.86893557  124.31021005]\n",
      "Iteración 48: [ 124.51021005  -32.60255251 -138.81148631]\n",
      "Iteración 49: [-138.61148631   33.17787158  157.2004221 ]\n",
      "Iteración 50: [ 157.4004221   -40.82510552 -175.81297486]\n",
      "\n",
      "...Aún se están realizando iteraciones...\n",
      "\n",
      "Resultado en 300 iteraciones: [ 9.62129172e+14 -2.40532293e+14 -1.08239532e+15]\n"
     ]
    }
   ],
   "source": [
    "A = np.array([\n",
    "    [1,   0,    -1],\n",
    "    [0.5,   1,    -0.25],  \n",
    "    [1,  -0.5,     1]\n",
    "], dtype=float)\n",
    "\n",
    "b = np.array([0.2, -1.425, 2], dtype=float)\n",
    "x = gauss_seidel(A,b, 10e-22, 300)\n",
    "print('Resultado en 300 iteraciones:' , x)"
   ]
  },
  {
   "cell_type": "markdown",
   "id": "c9b897dd-0f59-4830-bdef-e064b345a3d9",
   "metadata": {},
   "source": [
    "**c)** ¿Qué pasa en la parte b) cuando el sistema cambia por el siguiente?\n",
    "\\begin{gather*}\n",
    "x_{1} - 2 x_{3} = 0.2, \\\\\n",
    "-\\frac{1}{2} x_{1} + x_{2} - \\frac{1}{4} x_{3} = -1.425, \\\\\n",
    "x_{1} - \\frac{1}{2} x_{2} + x_{3} = 2.\n",
    "\\end{gather*}"
   ]
  },
  {
   "cell_type": "code",
   "execution_count": 56,
   "id": "2e814bdb-a919-4235-a31e-3a9d022d5136",
   "metadata": {},
   "outputs": [
    {
     "name": "stdout",
     "output_type": "stream",
     "text": [
      "Iteración 1: [ 0.2    -1.525   1.0375]\n",
      "Iteración 2: [ 2.275     -2.303125  -1.4265625]\n",
      "Iteración 3: [-2.653125   -0.45507812  4.42558594]\n",
      "Iteración 4: [ 9.05117187 -4.84418945 -9.4732666 ]\n",
      "Iteración 5: [-18.7465332    5.57994995  23.53650818]\n",
      "Iteración 6: [ 47.27301636 -19.17738113 -54.86170692]\n",
      "Iteración 7: [-109.52341385   39.62128019  131.33405395]\n",
      "Iteración 8: [ 262.86810789 -100.02554046 -310.88087812]\n",
      "Iteración 9: [-621.56175624  231.63565859  739.37958554]\n",
      "Iteración 10: [ 1478.95917107  -556.05968915 -1754.98901565]\n",
      "Iteración 11: [-3509.7780313   1314.71676174  4169.13641217]\n",
      "Iteración 12: [ 8338.47282433 -3128.37730913 -9900.6614789 ]\n",
      "Iteración 13: [-19801.12295779   7423.97110917  23515.10851238]\n",
      "Iteración 14: [ 47030.41702476 -17637.85638429 -55847.3452169 ]\n",
      "Iteración 15: [-111694.49043381   41883.98391268  132638.48239015]\n",
      "Iteración 16: [ 265277.16478029  -99480.38679261 -315015.3581766 ]\n",
      "Iteración 17: [-630030.5163532   236259.99363245  748162.51316942]\n",
      "Iteración 18: [ 1496325.22633885  -561123.40987707 -1776884.93127738]\n",
      "Iteración 19: [-3553769.66255477  1332662.17345804  4220102.74928378]\n",
      "Iteración 20: [  8440205.69856757  -3165078.58696284 -10022742.99204898]\n",
      "Iteración 21: [-20045485.78409797   7517055.71903674  23804015.64361634]\n",
      "Iteración 22: [ 47608031.48723268 -17853013.25771226 -56534536.11608881]\n",
      "Iteración 23: [-1.13069072e+08  4.24009006e+07  1.34269524e+08]\n",
      "Iteración 24: [ 2.68539049e+08 -1.00702145e+08 -3.18890119e+08]\n",
      "Iteración 25: [-6.37780238e+08  2.39167588e+08  7.57364034e+08]\n",
      "Iteración 26: [ 1.51472807e+09 -5.68023027e+08 -1.79873958e+09]\n",
      "Iteración 27: [-3.59747916e+09  1.34905468e+09  4.27200650e+09]\n",
      "Iteración 28: [ 8.54401301e+09 -3.20400488e+09 -1.01460154e+10]\n",
      "Iteración 29: [-2.02920309e+10  7.60951158e+09  2.40967867e+10]\n",
      "Iteración 30: [ 4.81935734e+10 -1.80725900e+10 -5.72298684e+10]\n",
      "Iteración 31: [-1.14459737e+11  4.29224013e+10  1.35920937e+11]\n",
      "Iteración 32: [ 2.71841875e+11 -1.01940703e+11 -3.22812226e+11]\n",
      "Iteración 33: [-6.45624453e+11  2.42109170e+11  7.66679037e+11]\n",
      "Iteración 34: [ 1.53335807e+12 -5.75009278e+11 -1.82086271e+12]\n",
      "Iteración 35: [-3.64172543e+12  1.36564704e+12  4.32454895e+12]\n",
      "Iteración 36: [ 8.64909789e+12 -3.24341171e+12 -1.02708037e+13]\n",
      "Iteración 37: [-2.05416075e+13  7.70310281e+12  2.43931589e+13]\n",
      "Iteración 38: [ 4.87863178e+13 -1.82948692e+13 -5.79337524e+13]\n",
      "Iteración 39: [-1.15867505e+14  4.34503143e+13  1.37592662e+14]\n",
      "Iteración 40: [ 2.75185324e+14 -1.03194496e+14 -3.26782572e+14]\n",
      "Iteración 41: [-6.53565144e+14  2.45086929e+14  7.76108609e+14]\n",
      "Iteración 42: [ 1.55221722e+15 -5.82081456e+14 -1.84325795e+15]\n",
      "Iteración 43: [-3.68651589e+15  1.38244346e+15  4.37773762e+15]\n",
      "Iteración 44: [ 8.75547524e+15 -3.28330321e+15 -1.03971268e+16]\n",
      "Iteración 45: [-2.07942537e+16  7.79784514e+15  2.46931763e+16]\n",
      "Iteración 46: [ 4.93863525e+16 -1.85198822e+16 -5.86462936e+16]\n",
      "Iteración 47: [-1.17292587e+17  4.39847202e+16  1.39284947e+17]\n",
      "Iteración 48: [ 2.78569895e+17 -1.04463711e+17 -3.30801750e+17]\n",
      "Iteración 49: [-6.61603500e+17  2.48101312e+17  7.85654156e+17]\n",
      "Iteración 50: [ 1.57130831e+18 -5.89240617e+17 -1.86592862e+18]\n",
      "\n",
      "...Aún se están realizando iteraciones...\n",
      "\n",
      "Resultado en 300 iteraciones:  [ 1.29468733e+112 -4.85507749e+111 -1.53744121e+112]\n"
     ]
    }
   ],
   "source": [
    "A = np.array([\n",
    "    [1,   0,    -2],\n",
    "    [0.5,   1,    -0.25],  \n",
    "    [1,  -0.5,     1]\n",
    "], dtype=float)\n",
    "\n",
    "b = np.array([0.2, -1.425, 2], dtype=float)\n",
    "x = gauss_seidel(A,b, 10e-22, 300)\n",
    "print('Resultado en 300 iteraciones: ', x)"
   ]
  },
  {
   "cell_type": "markdown",
   "id": "1ac6d6e2-8aba-4645-8b58-ccc795783012",
   "metadata": {},
   "source": [
    "**7.** Repita el ejercicio 11 usando el método de Jacobi"
   ]
  },
  {
   "cell_type": "code",
   "execution_count": 57,
   "id": "320e866a-deda-4348-860c-13bcc3ab8e57",
   "metadata": {},
   "outputs": [
    {
     "name": "stdout",
     "output_type": "stream",
     "text": [
      "Iteración 1: [ 0.2   -1.425  2.   ]\n",
      "Iteración 2: [ 2.2    -1.025   1.0875]\n",
      "Iteración 3: [ 1.2875   -2.253125 -0.7125  ]\n",
      "Iteración 4: [-0.5125    -2.246875  -0.4140625]\n",
      "Iteración 5: [-0.2140625  -1.27226562  1.3890625 ]\n",
      "Iteración 6: [ 1.5890625  -0.97070312  1.57792969]\n",
      "Iteración 7: [ 1.77792969 -1.82504883 -0.07441406]\n",
      "Iteración 8: [ 0.12558594 -2.33256836 -0.6904541 ]\n",
      "Iteración 9: [-0.4904541  -1.66040649  0.70812988]\n",
      "Iteración 10: [ 0.90812988 -1.00274048  1.66025085]\n",
      "Iteración 11: [ 1.86025085 -1.46400223  0.59049988]\n",
      "Iteración 12: [ 0.79049988 -2.20750046 -0.59225197]\n",
      "Iteración 13: [-0.39225197 -1.96831293  0.10574989]\n",
      "Iteración 14: [ 0.30574989 -1.20243654  1.4080955 ]\n",
      "Iteración 15: [ 1.6080955  -1.22585107  1.09303184]\n",
      "Iteración 16: [ 1.29303184 -1.95578979 -0.22102104]\n",
      "Iteración 17: [-0.02102104 -2.12677118 -0.27092673]\n",
      "Iteración 18: [-0.07092673 -1.48222116  0.95763545]\n",
      "Iteración 19: [ 1.15763545 -1.15012777  1.32981615]\n",
      "Iteración 20: [ 1.52981615 -1.67136369  0.26730066]\n",
      "Iteración 21: [ 0.46730066 -2.12308291 -0.36549799]\n",
      "Iteración 22: [-0.16549799 -1.75002483  0.47115788]\n",
      "Iteración 23: [ 0.67115788 -1.22446153  1.29048558]\n",
      "Iteración 24: [ 1.49048558 -1.43795755  0.71661135]\n",
      "Iteración 25: [ 0.91661135 -1.99108995 -0.20946435]\n",
      "Iteración 26: [-0.00946435 -1.93567176  0.08784367]\n",
      "Iteración 27: [ 0.28784367 -1.39830691  1.04162847]\n",
      "Iteración 28: [ 1.24162847 -1.30851472  1.01300287]\n",
      "Iteración 29: [ 1.21300287 -1.79256352  0.10411417]\n",
      "Iteración 30: [ 0.30411417 -2.00547289 -0.10928463]\n",
      "Iteración 31: [ 0.09071537 -1.60437824  0.69314938]\n",
      "Iteración 32: [ 0.89314938 -1.29707034  1.10709551]\n",
      "Iteración 33: [ 1.30709551 -1.59480081  0.45831545]\n",
      "Iteración 34: [ 0.65831545 -1.96396889 -0.10449592]\n",
      "Iteración 35: [ 0.09550408 -1.7802817   0.3597001 ]\n",
      "Iteración 36: [ 0.5597001  -1.38282702  1.01435507]\n",
      "Iteración 37: [ 1.21435507 -1.45126129  0.74888639]\n",
      "Iteración 38: [ 0.94888639 -1.84495594  0.06001429]\n",
      "Iteración 39: [ 0.26001429 -1.88443962  0.12863564]\n",
      "Iteración 40: [ 0.32863564 -1.52284824  0.7977659 ]\n",
      "Iteración 41: [ 0.9977659  -1.38987635  0.90994024]\n",
      "Iteración 42: [ 1.10994024 -1.69639789  0.30729593]\n",
      "Iteración 43: [ 0.50729593 -1.90314614  0.04186082]\n",
      "Iteración 44: [ 0.24186082 -1.66818276  0.541131  ]\n",
      "Iteración 45: [ 0.741131   -1.41064766  0.9240478 ]\n",
      "Iteración 46: [ 1.1240478  -1.56455355  0.55354517]\n",
      "Iteración 47: [ 0.75354517 -1.84863761  0.09367542]\n",
      "Iteración 48: [ 0.29367542 -1.77835373  0.32213603]\n",
      "Iteración 49: [ 0.52213603 -1.4913037   0.81714771]\n",
      "Iteración 50: [ 1.01714771 -1.48178108  0.73221212]\n",
      "\n",
      "...Aún se están realizando iteraciones...\n",
      "\n",
      "Resultado en 300 iteraciones:  [ 0.6885625  -1.64697801  0.48832   ]\n"
     ]
    }
   ],
   "source": [
    "A = np.array([\n",
    "    [1,   0,    -1],\n",
    "    [0.5,   1,    -0.25],  \n",
    "    [1,  -0.5,     1]\n",
    "], dtype=float)\n",
    "\n",
    "b = np.array([0.2, -1.425, 2], dtype=float)\n",
    "x = gauss_jacobi(A,b, 10e-22, 300)\n",
    "print('Resultado en 300 iteraciones: ', x)"
   ]
  },
  {
   "cell_type": "markdown",
   "id": "1c163716-5173-4a92-867f-939e7a1112df",
   "metadata": {},
   "source": [
    "**8.** Un cable coaxial está formado por un conductor interno de 0.1 pulgadas cuadradas y un conductor externo\n",
    "de 0.5 pulgadas cuadradas. El potencial en un punto en la sección transversal del cable se describe\n",
    "mediante la ecuación de Laplace.\n",
    "Suponga que el conductor interno se mantiene en 0 volts y el conductor externo se mantiene en 110 volts. Aproximar\n",
    "el potencial entre los dos conductores requiere resolver el siguiente sistema lineal.\n",
    "\n",
    "\\begin{align*}\n",
    "\\left[\n",
    "\\begin{array}{rrrrrrrrrrrr}\n",
    "4 & -1 & 0 & 0 & -1 & 0 & 0 & 0 & 0 & 0 & 0 & 0 \\\\\n",
    "-1 & 4 & -1 & 0 & 0 & 0 & 0 & 0 & 0 & 0 & 0 & 0 \\\\\n",
    "0 & -1 & 4 & -1 & 0 & 0 & 0 & 0 & 0 & 0 & 0 & 0 \\\\\n",
    "0 & 0 & -1 & 4 & 0 & -1 & 0 & 0 & 0 & 0 & 0 & 0 \\\\\n",
    "-1 & 0 & 0 & 0 & 4 & 0 & -1 & 0 & 0 & 0 & 0 & 0 \\\\\n",
    "0 & 0 & 0 & -1 & 0 & 4 & 0 & -1 & 0 & 0 & 0 & 0 \\\\\n",
    "0 & 0 & 0 & 0 & -1 & 0 & 4 & 0 & -1 & 0 & 0 & 0 \\\\\n",
    "0 & 0 & 0 & 0 & 0 & -1 & 0 & 4 & 0 & 0 & 0 & -1 \\\\\n",
    "0 & 0 & 0 & 0 & 0 & 0 & -1 & 0 & 4 & -1 & 0 & 0 \\\\\n",
    "0 & 0 & 0 & 0 & 0 & 0 & 0 & 0 & -1 & 4 & -1 & 0 \\\\\n",
    "0 & 0 & 0 & 0 & 0 & 0 & 0 & 0 & 0 & -1 & 4 & -1 \\\\\n",
    "0 & 0 & 0 & 0 & 0 & -1 & 0 & 0 & 0 & 0 & -1 & 4\n",
    "\\end{array}\n",
    "\\right]\n",
    "\\left[\n",
    "\\begin{array}{l}\n",
    "w_{1} \\\\\n",
    "w_{2} \\\\\n",
    "w_{3} \\\\\n",
    "w_{4} \\\\\n",
    "w_{5} \\\\\n",
    "w_{6} \\\\\n",
    "w_{7} \\\\\n",
    "w_{8} \\\\\n",
    "w_{9} \\\\\n",
    "w_{10} \\\\\n",
    "w_{11} \\\\\n",
    "w_{12}\n",
    "\\end{array}\n",
    "\\right]\n",
    "=\n",
    "\\left[\n",
    "\\begin{array}{l}\n",
    "220 \\\\\n",
    "110 \\\\\n",
    "110 \\\\\n",
    "220 \\\\\n",
    "110 \\\\\n",
    "110 \\\\\n",
    "110 \\\\\n",
    "110 \\\\\n",
    "220 \\\\\n",
    "110 \\\\\n",
    "110 \\\\\n",
    "220\n",
    "\\end{array}\n",
    "\\right]\n",
    "\\end{align*}"
   ]
  },
  {
   "cell_type": "markdown",
   "id": "01e49a8d-3e2e-41ba-a817-4dcaaf58654a",
   "metadata": {},
   "source": [
    "**a)** ¿La matriz es estrictamente diagonalmente dominante?\n",
    "\n",
    "*R=* Si, ya que los valores de la diagonal son mayores siempre.\n"
   ]
  },
  {
   "cell_type": "markdown",
   "id": "b7582b3c-0db2-4172-895a-5a6edd8708d5",
   "metadata": {},
   "source": [
    "**b)** Resuelva el sistema lineal usando el método de Jacobi con x(0) = 0 y TOL = 10-2."
   ]
  },
  {
   "cell_type": "code",
   "execution_count": 45,
   "id": "10a3d43f-db88-4dc4-934b-902867d7f296",
   "metadata": {},
   "outputs": [
    {
     "name": "stdout",
     "output_type": "stream",
     "text": [
      "Iteración 1: [55.  27.5 27.5 55.  27.5 27.5 27.5 27.5 55.  27.5 27.5 55. ]\n",
      "Iteración 2: [68.75  48.125 48.125 68.75  48.125 48.125 48.125 48.125 68.75  48.125\n",
      " 48.125 68.75 ]\n",
      "Iteración 3: [79.0625  56.71875 56.71875 79.0625  56.71875 56.71875 56.71875 56.71875\n",
      " 79.0625  56.71875 56.71875 79.0625 ]\n",
      "Iteración 4: [83.359375  61.4453125 61.4453125 83.359375  61.4453125 61.4453125\n",
      " 61.4453125 61.4453125 83.359375  61.4453125 61.4453125 83.359375 ]\n",
      "Iteración 5: [85.72265625 63.70117188 63.70117188 85.72265625 63.70117188 63.70117188\n",
      " 63.70117188 63.70117188 85.72265625 63.70117188 63.70117188 85.72265625]\n",
      "Iteración 6: [86.85058594 64.85595703 64.85595703 86.85058594 64.85595703 64.85595703\n",
      " 64.85595703 64.85595703 86.85058594 64.85595703 64.85595703 86.85058594]\n",
      "Iteración 7: [87.42797852 65.42663574 65.42663574 87.42797852 65.42663574 65.42663574\n",
      " 65.42663574 65.42663574 87.42797852 65.42663574 65.42663574 87.42797852]\n",
      "Iteración 8: [87.71331787 65.71365356 65.71365356 87.71331787 65.71365356 65.71365356\n",
      " 65.71365356 65.71365356 87.71331787 65.71365356 65.71365356 87.71331787]\n",
      "Iteración 9: [87.85682678 65.85674286 65.85674286 87.85682678 65.85674286 65.85674286\n",
      " 65.85674286 65.85674286 87.85682678 65.85674286 65.85674286 87.85682678]\n",
      "Iteración 10: [87.92837143 65.92839241 65.92839241 87.92837143 65.92839241 65.92839241\n",
      " 65.92839241 65.92839241 87.92837143 65.92839241 65.92839241 87.92837143]\n",
      "Resultado Gauss-Jacobi:\n",
      " [87.92837143 65.92839241 65.92839241 87.92837143 65.92839241 65.92839241\n",
      " 65.92839241 65.92839241 87.92837143 65.92839241 65.92839241 87.92837143]\n"
     ]
    }
   ],
   "source": [
    "A = np.array([\n",
    "    [ 4, -1,  0,  0, -1,  0,  0,  0,  0,  0,  0,  0],\n",
    "    [-1,  4, -1,  0,  0,  0,  0,  0,  0,  0,  0,  0],\n",
    "    [ 0, -1,  4, -1,  0,  0,  0,  0,  0,  0,  0,  0],\n",
    "    [ 0,  0, -1,  4,  0, -1,  0,  0,  0,  0,  0,  0],\n",
    "    [-1, 0,  0,  0,  4,  0, -1,  0,  0,  0,  0,  0],\n",
    "    [ 0, 0,  0, -1,  0,  4,  0, -1,  0,  0,  0,  0],\n",
    "    [ 0, 0,  0,  0, -1,  0,  4,  0, -1,  0,  0,  0],\n",
    "    [ 0, 0,  0,  0,  0, -1,  0,  4,  0,  0,  0, -1],\n",
    "    [ 0, 0,  0,  0,  0,  0, -1,  0,  4, -1,  0,  0],\n",
    "    [ 0, 0,  0,  0,  0,  0,  0,  0, -1,  4, -1,  0],\n",
    "    [ 0, 0,  0,  0,  0,  0,  0,  0,  0, -1,  4, -1],\n",
    "    [ 0, 0,  0,  0,  0,  0,  0, -1,  0,  0, -1,  4]\n",
    "], dtype=float)\n",
    "\n",
    "b = np.array([\n",
    "    220, 110, 110, 220,\n",
    "    110, 110, 110, 110,\n",
    "    220, 110, 110, 220\n",
    "], dtype=float)\n",
    "print('Resultado Gauss-Jacobi:\\n', gauss_jacobi(A,b, 10e-2, 100))"
   ]
  },
  {
   "cell_type": "markdown",
   "id": "32279fcf-36fb-4fd3-8afa-8abd26a47f48",
   "metadata": {},
   "source": [
    "**c)** Repita la parte b) mediante el método de Gauss-Siedel."
   ]
  },
  {
   "cell_type": "code",
   "execution_count": 46,
   "id": "9539a5be-cd48-46b6-a8b6-17b5b11b7147",
   "metadata": {},
   "outputs": [
    {
     "name": "stdout",
     "output_type": "stream",
     "text": [
      "Iteración 1: [55.         41.25       37.8125     64.453125   41.25       43.61328125\n",
      " 37.8125     38.40332031 64.453125   43.61328125 38.40332031 74.20166016]\n",
      "Iteración 2: [75.625      55.859375   57.578125   80.29785156 55.859375   57.17529297\n",
      " 57.578125   60.34423828 80.29785156 57.17529297 60.34423828 85.17211914]\n",
      "Iteración 3: [82.9296875  62.62695312 63.23120117 85.10162354 62.62695312 63.86146545\n",
      " 63.23120117 64.75839615 85.10162354 63.86146545 64.75839615 87.37919807]\n",
      "Iteración 4: [86.31347656 64.88616943 64.99694824 87.21460342 64.88616943 65.49324989\n",
      " 64.99694824 65.71811199 87.21460342 65.49324989 65.71811199 87.859056  ]\n",
      "Iteración 5: [87.44308472 65.61000824 65.70615292 87.7998507  65.61000824 65.87949067\n",
      " 65.70615292 65.93463667 87.7998507  65.87949067 65.93463667 87.96731833]\n",
      "Iteración 6: [87.80500412 65.87778926 65.91940999 87.94972517 65.87778926 65.97109046\n",
      " 65.91940999 65.9846022  87.94972517 65.97109046 65.9846022  87.9923011 ]\n",
      "Iteración 7: [87.93889463 65.96457615 65.97857533 87.98741645 65.96457615 65.99300466\n",
      " 65.97857533 65.99632644 87.98741645 65.99300466 65.99632644 87.99816322]\n",
      "Iteración 8: [87.98228808 65.99021585 65.99440807 87.99685318 65.99021585 65.99829491\n",
      " 65.99440807 65.99911453 87.99685318 65.99829491 65.99911453 87.99955727]\n",
      "Resultado Gauss-Seidel:\n",
      " [87.98228808 65.99021585 65.99440807 87.99685318 65.99021585 65.99829491\n",
      " 65.99440807 65.99911453 87.99685318 65.99829491 65.99911453 87.99955727]\n"
     ]
    }
   ],
   "source": [
    "print('Resultado Gauss-Seidel:\\n', gauss_seidel(A,b, 10e-2, 100))"
   ]
  }
 ],
 "metadata": {
  "kernelspec": {
   "display_name": "Python 3 (ipykernel)",
   "language": "python",
   "name": "python3"
  },
  "language_info": {
   "codemirror_mode": {
    "name": "ipython",
    "version": 3
   },
   "file_extension": ".py",
   "mimetype": "text/x-python",
   "name": "python",
   "nbconvert_exporter": "python",
   "pygments_lexer": "ipython3",
   "version": "3.11.10"
  }
 },
 "nbformat": 4,
 "nbformat_minor": 5
}
