{
 "cells": [
  {
   "cell_type": "raw",
   "id": "98313705-14ba-4707-907d-79e0060c25a9",
   "metadata": {},
   "source": [
    "---\n",
    "title: \"Tarea 3\"\n",
    "author: \"Jesua Villacis\"\n",
    "lang: es\n",
    "format:\n",
    " pdf:\n",
    "  toc: true\n",
    "  toc-title: \"Tabla de Contenidos\"\n",
    "execute:\n",
    " echo: true\n",
    " error: false\n",
    " warning: false\n",
    "jupyter: python3\n",
    "---"
   ]
  },
  {
   "cell_type": "markdown",
   "id": "2ce44f2c-2b8d-48d0-ba74-3fe0e94aa230",
   "metadata": {},
   "source": [
    "## Link del repositorio\n",
    "## Ejercicio 1\n",
    "Utilice aritmética de corte de tres dígitos para calcular las siguientes sumas. Para cada parte, ¿qué método es\n",
    "más preciso y por qué?"
   ]
  },
  {
   "cell_type": "markdown",
   "id": "0c4b3e26-f1d1-4d34-8a4d-fecb7f8f7eba",
   "metadata": {},
   "source": [
    "**a)** $\\sum_{i=1}^{10} \\frac{1}{i^{2}}$ primero por $\\frac{1}{1}+\\frac{1}{4}+...+\\frac{1}{100}$ y luego por $\\frac{1}{100}+...+\\frac{1}{4}+\\frac{1}{1}$\n",
    "\n",
    "- ***Orden Ascendente***\n",
    "\\begin{align*}\n",
    " \\sum_{i=1}^{10} \\frac{1}{i^{2}}&=\\frac{1}{1^{2}}+\\frac{1}{2^{2}}+\\frac{1}{3^{2}}+\\frac{1}{4^{2}}+\\frac{1}{5^{2}}+\\frac{1}{6^{2}}+\\frac{1}{7^{2}}+\\frac{1}{8^{2}}+\\frac{1}{9^{2}}+\\frac{1}{10^{2}}\\\\\n",
    "  &= 1+0.25+0.111+0.0625+0.04+0.0278+0.0204+0.0156+0.0123+0.01\\\\\n",
    "  &= 1.55\n",
    "\\end{align*}\n",
    "- ***Orden Descendente***\n",
    "\\begin{align*}\n",
    " \\sum_{i=1}^{10} \\frac{1}{i^{2}}&=\\frac{1}{10^{2}}+\\frac{1}{9^{2}}+\\frac{1}{8^{2}}+\\frac{1}{7^{2}}+\\frac{1}{6^{2}}+\\frac{1}{5^{2}}+\\frac{1}{4^{2}}+\\frac{1}{3^{2}}+\\frac{1}{2^{2}}+\\frac{1}{1^{2}}\\\\\n",
    "  &= 0.01+0.0123+0.0156+0.0204+0.0278+0.04+0.0625+0.111+0.25+1\\\\\n",
    "  &= 1.55\n",
    "\\end{align*}\n",
    "\n",
    "***Respuesta:***Ambas operaciones nos traen al mismo resultado pero al manejarlas de manera descendente tenemos una reducción del error debido a que no se propaga los errores al sumas"
   ]
  },
  {
   "cell_type": "markdown",
   "id": "c7e7e839-5436-4fa9-a2b1-c4e6c95fe121",
   "metadata": {},
   "source": [
    "**b)** $\\sum_{i=1}^{10} \\frac{1}{i^{3}}$ primero por $\\frac{1}{1}+\\frac{1}{8}+...+\\frac{1}{1000}$ y luego por $\\frac{1}{1000}+...+\\frac{1}{8}+\\frac{1}{1}$\n",
    "\n",
    "- ***Orden Ascendente***\n",
    "\\begin{align*}\n",
    " \\sum_{i=1}^{10} \\frac{1}{i^{3}}&=\\frac{1}{1^{3}}+\\frac{1}{2^{3}}+\\frac{1}{3^{3}}+\\frac{1}{4^{3}}+\\frac{1}{5^{3}}+\\frac{1}{6^{3}}+\\frac{1}{7^{3}}+\\frac{1}{8^{3}}+\\frac{1}{9^{3}}+\\frac{1}{10^{3}}\\\\\n",
    "  &= 1+0.125+0.037+0.0156+0.008+0.00463+0.00292+0.00192+0.00137+0.001\\\\\n",
    "  &= 1.2\n",
    "\\end{align*}\n",
    "- ***Orden Descendente***\n",
    "\\begin{align*}\n",
    " \\sum_{i=1}^{10} \\frac{1}{i^{3}}&=\\frac{1}{10^{3}}+\\frac{1}{9^{3}}+\\frac{1}{8^{3}}+\\frac{1}{7^{3}}+\\frac{1}{6^{3}}+\\frac{1}{5^{3}}+\\frac{1}{4^{3}}+\\frac{1}{3^{3}}+\\frac{1}{2^{3}}+\\frac{1}{1^{3}}\\\\\n",
    "  &= 0.001+0.00137+0.00195+0.00292+0.00463+0.008+0.00156+0.037+0.125+1\\\\\n",
    "  &= 1.2\n",
    "\\end{align*}\n",
    "\n",
    "***Respuesta:*** Nuevamente ambas operaciones nos traen al mismo resultado pero al manejarlas de manera descendente tenemos una reducción del error debido a que no se propaga los errores al sumas."
   ]
  },
  {
   "cell_type": "markdown",
   "id": "f81f643c-585b-4f5d-b164-34b84d954e49",
   "metadata": {},
   "source": [
    "## Ejercicio 2\n",
    "La serie de Maclaurin para la función arcotangente converge para −1 < 𝑥 ≤ 1 y está dada por $arctang=\n",
    "\\lim_{n \\to \\infty} P_n(x) = \\lim_{n \\to \\infty} \\sum_{i=1}^{n}(-1)^{i+1}\\cdot \\frac{x^{2i-1}}{2i - 1}$"
   ]
  },
  {
   "cell_type": "markdown",
   "id": "503f1056-9501-47db-b8f9-f8b906c14222",
   "metadata": {},
   "source": [
    "***a)*** Utilice el hecho de que tan $𝜋⁄4 = 1$ para determinar el número n de términos de la serie que se necesita\n",
    "sumar para garantizar que $|4𝑃_n(1) − 𝜋| < 10^{−3}$\n",
    "\n",
    "\\begin{align*}\n",
    " |4𝑃_n(1) − 𝜋| < &\\frac{4}{2n+1}< 10^{-3}\\\\\n",
    "&\\frac{4}{2n+1}< 10^{-3}\\\\\n",
    "2n+1 &>\\frac{4}{10^{-3}}\\\\\n",
    "2n+1&>4000\\\\\n",
    "2n&>3999\\\\\n",
    "n&>1999\n",
    "\\end{align*}\n",
    "\n",
    "***Respuesta:*** Se necesitaria al menos 2000 terminos para poder llegar al error deseado."
   ]
  },
  {
   "cell_type": "markdown",
   "id": "ffdd103b-f86e-4526-ae39-b6481f2fcbfe",
   "metadata": {},
   "source": [
    "***b)*** El lenguaje de programación C++ requiere que el valor de 𝜋 se encuentre dentro de $10^{−10}$. ¿Cuántos\n",
    "términos de la serie se necesitarían sumar para obtener este grado de precisión?\n",
    "\n",
    "\\begin{align*}\n",
    " \\frac{4}{2n+1} &< 10^{-10}\\\\\n",
    "2n+1 &>\\frac{4}{10^{-10}}\\\\\n",
    "2n+1&>4 \\times 10^{9}\\\\\n",
    "2n&>4 \\times 10^{9}-1\\\\\n",
    "n&>\\frac{4 \\times 10^{9}-1}{2}\\\\\n",
    "n&>2 \\times 10^{9} -1\n",
    "\\end{align*}\n",
    "\n",
    "***Respuesta:*** Se necesitarian de al menos 2000000000 de terminos para llegar a una presición de $10^{-10}$"
   ]
  },
  {
   "cell_type": "markdown",
   "id": "766a3f55-d2ea-4ef4-821c-7cc48951bef7",
   "metadata": {},
   "source": [
    "## Ejercicio 3\n",
    "Otra fórmula para calcular 𝜋 se puede deducir a partir de la identidad $\\frac{\\pi}{4} = 4arctan(\\frac{1}{5})-arctan(\\frac{1}{239})$. Determine el número de términos que se deben sumar para garantizar una aproximación 𝜋 dentro de $10^{-3}$.\n",
    "\n",
    "\\begin{align*}\n",
    " \\frac{\\pi}{4} &= 4\\cdot \\arctan\\left(\\frac{1}{5}\\right) - \\arctan\\left(\\frac{1}{239}\\right)\\\\\n",
    " \\arctan(x) &\\approx \\sum_{i=0}^{n} \\left( \\frac{4(-1)^i (1/5)^{2i+1}}{2i+1} - \\frac{(-1)^i (1/239)^{2i+1}}{2i+1} \\right)\\\\\n",
    "  T_0 = 4 \\cdot \\frac{1}{5} - \\frac{1}{239} &= 0.7848 \\Rightarrow \\pi \\approx 3.1392 \\\\\n",
    "  T_1 = -4 \\cdot \\frac{1}{5^3 \\cdot 3} + \\frac{1}{239^3 \\cdot 3} &= 0.0024 \\Rightarrow \\pi \\approx 3.1416 \n",
    "\\end{align*}"
   ]
  },
  {
   "cell_type": "markdown",
   "id": "23bb9f56-c112-4a95-bf20-c5cb9e40f322",
   "metadata": {},
   "source": [
    "## Ejercicio 4\n",
    "Compare los siguientes tres algoritmos. ¿Cuándo es correcto el algoritmo de la parte 1a?\n",
    "\n",
    "**a.** ENTRADA 𝑛, 𝑥1, 𝑥2, ⋯ , 𝑥𝑛.\n",
    "\n",
    "SALIDA PRODUCT.\n",
    "\n",
    "Paso 1 Determine PRODUCT = 0.\n",
    "\n",
    "Paso 2 Para 𝑖 = 1, 2, ⋯ , 𝑛 haga\n",
    "\n",
    "Determine PRODUCT = PRODUCT ∗ 𝑥𝑖\n",
    "\n",
    "Paso 3 SALIDA PRODUCT;\n",
    "\n",
    "PARE.\n",
    "\n",
    "**b.** ENTRADA 𝑛, 𝑥1, 𝑥2, ⋯ , 𝑥𝑛.\n",
    "\n",
    "SALIDA PRODUCT.\n",
    "\n",
    "Paso 1 Determine PRODUCT = 1.\n",
    "\n",
    "Paso 2 Para 𝑖 = 1, 2, ⋯ , 𝑛 haga\n",
    "\n",
    "Set PRODUCT = PRODUCT ∗ 𝑥𝑖.\n",
    "\n",
    "Paso 3 SALIDA PRODUCT;\n",
    "\n",
    "PARE.\n",
    "\n",
    "**c.** ENTRADA 𝑛, 𝑥1, 𝑥2, ⋯ , 𝑥𝑛.\n",
    "\n",
    "SALIDA PRODUCT.\n",
    "\n",
    "Paso 1 Determine PRODUCT = 1.\n",
    "\n",
    "Paso 2 Para 𝑖 = 1, 2, ⋯ , 𝑛 haga\n",
    "\n",
    "si 𝑥𝑖 = 0 entonces determine PRODUCT = 0;\n",
    "\n",
    "SALIDA PRODUCT;\n",
    "\n",
    "PARE\n",
    "\n",
    "Determine PRODUCT = PRODUCT ∗ 𝑥𝑖.\n",
    "\n",
    "Paso 3 SALIDA PRODUCT;\n",
    "\n",
    "PARE.\n",
    "\n",
    "***Respuesta:*** El primer algoritmo siempre va a dar cero debido a que inicializa la variable producto en cero pero nunca la cambia y por tanto el resultado queda en cero. El segundo algoritmo siempre es una implementación correcta, mientras que el tercero es una forma mas optimizada del anterior debido a que verifica si existe algun cero dentro de la lista de input para terminar rapidamente la ejecución.\n"
   ]
  },
  {
   "cell_type": "markdown",
   "id": "545711fa-43c9-47dc-8d15-73f078ddfd0e",
   "metadata": {},
   "source": [
    "## Ejercicio 5\n",
    "**a)** ¿Cuántas multiplicaciones y sumas se requieren para determinar una suma de la forma $\\sum_{i=1}^{n}\\sum_{j=1}^{n} a_i b_j$\n",
    "\n",
    "- Como hay una sumatoria anidada dentro de otra, se realizaran *n* multiplicaciones *n* veces lo que nos daría un total de $n^{2}$ de multiplicaciones totales.\n",
    "- Y como hay $n^{2}$ multiplicaciones se realizarian $n^{2}-1$ sumas"
   ]
  },
  {
   "cell_type": "markdown",
   "id": "492c65fa-1541-448f-8595-43c4e7fa30d5",
   "metadata": {},
   "source": [
    "***b)*** Modifique la suma en la parte a) a un formato equivalente que reduzca el número de cálculos\n",
    "\n",
    "\\begin{align*}\n",
    "&\\text{Partimos de la suma doble original:} \\\\\n",
    "&\\sum_{i=1}^{n}\\sum_{j=1}^{n} a_i b_j \\\\\n",
    "\\\\\n",
    "&\\text{Aplicamos factorización sacando } a_i \\text{ fuera de la suma interna:} \\\\\n",
    "&\\sum_{i=1}^{n} a_i \\left(\\sum_{j=1}^{n} b_j \\right) \\\\\n",
    "\\\\\n",
    "&\\text{Dado que la suma interna no depende de } i, \\text{ la expresamos como:} \\\\\n",
    "&\\sum_{i=1}^{n}\\sum_{j=1}^{n} a_i b_j = \\left(\\sum_{i=1}^{n} a_i \\right) \\cdot \\left(\\sum_{j=1}^{n} b_j \\right)\n",
    "\\end{align*}"
   ]
  },
  {
   "cell_type": "markdown",
   "id": "a0e7d463-8678-4eab-8d6b-ec0a0d1d0005",
   "metadata": {},
   "source": [
    "# Discusiones\n",
    "## Numero 1 \n",
    "Escriba un algoritmo para sumar la serie finita $\\sum_{i=i}^{n} xi$ en orden inverso.\n",
    "\n",
    "- *Entrada: $n,x_1,x_2,...x_n$*\n",
    "\n",
    "- *Suma = 0*\n",
    "\n",
    "- *Para i=n, hasta 1*\n",
    "  - *Suma = Suma + xi*\n",
    "- *Imprimir **Suma***\n",
    "    \n",
    " "
   ]
  },
  {
   "cell_type": "markdown",
   "id": "3b1a31a0-251f-42e8-bd0b-1bfb270d340c",
   "metadata": {},
   "source": [
    "## Numero 2\n",
    "Las ecuaciones (1.2) y (1.3) en la sección 1.2 proporcionan formas alternativas para las raíces $𝑥_{1}$ y $𝑥_{2}$ de $𝑎𝑥^{2} + 𝑏𝑥 + 𝑐 = 0$. Construya un algoritmo con entrada 𝑎, 𝑏, 𝑐 c y salida $𝑥_{1}$ y $𝑥_{2}$ que calcule las raíces $𝑥_{1}$ y $𝑥_{2}$\n",
    "(que pueden ser iguales con conjugados complejos) mediante la mejor fórmula para cada raíz.\n",
    "\n",
    "\n",
    "- *Entrada: $a, b ,c$*\n",
    "- *Det = $b^{2}-4ac$*\n",
    "- *Si Det>0 entonces*\n",
    "  - *x_1= (-b - sqrt(D)) / (2 * a)*\n",
    "- *Sino*\n",
    "  - x_1= (-b + sqrt(D)) / (2 * a)*\n",
    "  - \n",
    "*Fin si*\n",
    "- *x_2 =  c / (a * x_1)*\n",
    "- *Si Det=0 entonces*\n",
    "  - x_1 = -b / (2 * a)\n",
    "  - x_2 = x_1\n",
    "  - \n",
    "*Fin si*\n",
    "- *Si Det<0 entonces*\n",
    "  - *real=  -b / (2 * a)*\n",
    "  - *imaginario = sqrt(-D) / (2 * a)*\n",
    "  - *x_1= real + i$*$imaginario*\n",
    "  - *x_2= real - i$*$imaginario*\n",
    " \n",
    "*Fin si*\n",
    "- *Imprimir **X_1, X_2***\n",
    "    \n",
    " "
   ]
  },
  {
   "cell_type": "markdown",
   "id": "b03eac09-e0e9-405b-99f7-c54881bfa088",
   "metadata": {},
   "source": [
    "## Numero 3\n",
    "Suponga que $\\frac{1-2x}{1-x+x^{2}}+\\frac{2x+4x^{2}}{1-x^{2}+x^{4}}+\\frac{4x^{3}+8x^{7}}{1-x^{4}+x^{8}}+...= \\frac{1+2x}{1+x+x^{2}}$ para 𝑥 < 1 y si 𝑥 = 0.25. Escriba y ejecute un algoritmo que determine el número de términos necesarios en\n",
    "el lado izquierdo de la ecuación de tal forma que el lado izquierdo difiera del lado derecho en menos de $10^{-6}$\n",
    "\n",
    "- *Entrada: $x, tolerancia$*\n",
    "- *Suma = 0$*\n",
    "- *k_terminos= 0*\n",
    "- *Inicial = (1 + 2x) / (1 + x + x^2)*\n",
    "\n",
    "- *Mientras |Suma-inicial|> tolerancia*\n",
    "   - *numerador = 2^k * x^(2^k - 1) + 2^(k+1) * x^(2^(k+1) - 1)*\n",
    "    - *denominador = 1 - x^(2^k) + x^(2^(k+1))*\n",
    "    - *termino = numerador / denominador*\n",
    "    - *Suma = Suma + termino*\n",
    "    - *k = k + 1*\n",
    "- *Imprimir **k***"
   ]
  }
 ],
 "metadata": {
  "kernelspec": {
   "display_name": "Python 3 (ipykernel)",
   "language": "python",
   "name": "python3"
  },
  "language_info": {
   "codemirror_mode": {
    "name": "ipython",
    "version": 3
   },
   "file_extension": ".py",
   "mimetype": "text/x-python",
   "name": "python",
   "nbconvert_exporter": "python",
   "pygments_lexer": "ipython3",
   "version": "3.11.10"
  }
 },
 "nbformat": 4,
 "nbformat_minor": 5
}
