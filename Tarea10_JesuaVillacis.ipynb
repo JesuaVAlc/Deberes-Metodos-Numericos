{
 "cells": [
  {
   "cell_type": "raw",
   "id": "ae698a63-9bbb-49b1-a56f-b8ec720c6bb9",
   "metadata": {},
   "source": [
    "---\n",
    "title: \"Tarea 10\"\n",
    "author: \"Jesua Villacis\"\n",
    "lang: es\n",
    "format:\n",
    " pdf:\n",
    "  toc: false\n",
    "execute:\n",
    " echo: false\n",
    " error: false\n",
    " warning: false\n",
    "jupyter: python3\n",
    "---"
   ]
  },
  {
   "cell_type": "markdown",
   "id": "f32bf78d-28ca-4470-8785-6d58746d027d",
   "metadata": {},
   "source": [
    "## Link al notebook con las celdas de python para la resolucion de los ejercicios\n",
    "https://github.com/JesuaVAlc/Deberes-Metodos-Numericos/blob/main/Tarea10_JesuaVillacis.ipynb"
   ]
  },
  {
   "cell_type": "markdown",
   "id": "b5c18df8-aa6c-4e6d-bcaa-c835f450c918",
   "metadata": {},
   "source": [
    "**1.**Realice las siguientes multiplicaciones matriz-matriz:"
   ]
  },
  {
   "cell_type": "markdown",
   "id": "8343fe3a-b723-4803-b634-8cbc10d50bda",
   "metadata": {},
   "source": [
    "**a)**\n",
    "\\begin{gather*}\n",
    "\\begin{bmatrix}\n",
    "2 & -3 \\\\\n",
    "3 & -1\n",
    "\\end{bmatrix}\n",
    "\\begin{bmatrix}\n",
    "1 & 5 \\\\\n",
    "2 & 0\n",
    "\\end{bmatrix}\n",
    "\\end{gather*}\n"
   ]
  },
  {
   "cell_type": "markdown",
   "id": "23ee7d12-6746-4d4e-b868-1afd69606582",
   "metadata": {},
   "source": [
    "**b)**\n",
    "\\begin{gather*}\n",
    "\\begin{bmatrix}\n",
    "2 & -3 \\\\\n",
    "3 & -1\n",
    "\\end{bmatrix}\n",
    "\\begin{bmatrix}\n",
    "1 & 5 &-4\\\\\n",
    "-3 & 2 & 0\n",
    "\\end{bmatrix}\n",
    "\\end{gather*}\n"
   ]
  },
  {
   "cell_type": "markdown",
   "id": "dbd4ef26-9a90-4e13-be3c-ee0b19ea26ac",
   "metadata": {},
   "source": [
    "**c)**\n",
    "\\begin{gather*}\n",
    "\\begin{bmatrix}\n",
    "2 & -3 &1\\\\\n",
    "4 & 3 & 0\\\\\n",
    "5 &2 &-4\n",
    "\\end{bmatrix}\n",
    "\\begin{bmatrix}\n",
    "0 & 1 & -2\\\\\n",
    "1 & 0 & -1\\\\\n",
    "2 & 3 & -2\n",
    "\\end{bmatrix}\n",
    "\\end{gather*}\n"
   ]
  },
  {
   "cell_type": "markdown",
   "id": "e0d8e380-6b75-46b1-932f-8e399126b39e",
   "metadata": {},
   "source": [
    "**d)**\n",
    "\\begin{gather*}\n",
    "\\begin{bmatrix}\n",
    "2 & 1 &2\\\\\n",
    "-2 & 3 & 0\\\\\n",
    "2 & -1 & 3\n",
    "\\end{bmatrix}\n",
    "\\begin{bmatrix}\n",
    "1 & -2 \\\\\n",
    "-4 & 1\\\\\n",
    "0 & 2\n",
    "\\end{bmatrix}\n",
    "\\end{gather*}\n"
   ]
  },
  {
   "cell_type": "markdown",
   "id": "59ed88cd-16e8-4992-b8a9-88c4600eed76",
   "metadata": {},
   "source": [
    "**2.** Determine cuáles de las siguientes matrices son no singulares y calcule la inversa de esas matrices:"
   ]
  },
  {
   "cell_type": "markdown",
   "id": "bcf36dca-e1eb-48db-b194-a9ea4bd175e1",
   "metadata": {},
   "source": [
    "**a)**\n",
    "\\begin{gather*}\n",
    "\\begin{bmatrix}\n",
    "4 & 2 &6\\\\\n",
    "3 & 0 &7\\\\\n",
    "-2 &-1 &-3\n",
    "\\end{bmatrix}\n",
    "\\end{gather*}"
   ]
  },
  {
   "cell_type": "markdown",
   "id": "434a151c-28d2-4d5e-8da8-490dfc7d4f04",
   "metadata": {},
   "source": [
    "**b)**\n",
    "\\begin{gather*}\n",
    "\\begin{bmatrix}\n",
    "1 & 2 &0\\\\\n",
    "2 & 1 &-1\\\\\n",
    "3 & 1 &-1\n",
    "\\end{bmatrix}\n",
    "\\end{gather*}"
   ]
  },
  {
   "cell_type": "markdown",
   "id": "5d69ff12-f537-4061-b8a1-5e870d1329d9",
   "metadata": {},
   "source": [
    "**c)**\n",
    "\\begin{gather*}\n",
    "\\begin{bmatrix}\n",
    "1 & 1 &-1 &1\\\\\n",
    "1 & 2 &-4 & -2\\\\\n",
    "2 &1 &1 &5\\\\\n",
    "-1 & 0 &-2 &-4\n",
    "\\end{bmatrix}\n",
    "\\end{gather*}"
   ]
  },
  {
   "cell_type": "markdown",
   "id": "dc27818d-07b1-4161-a49a-819b2c39d818",
   "metadata": {},
   "source": [
    "**d)**\n",
    "\\begin{gather*}\n",
    "\\begin{bmatrix}\n",
    "4 & 0 &0 &0\\\\\n",
    "6 & 7 &0 & 0\\\\\n",
    "9 & 11 &1 &0\\\\\n",
    "5 & 4 &1 &1\n",
    "\\end{bmatrix}\n",
    "\\end{gather*}"
   ]
  },
  {
   "cell_type": "markdown",
   "id": "b65ed6ff-b6c6-46c0-add8-0bdf422a24a2",
   "metadata": {},
   "source": [
    "**3.** Resuelva los sistemas lineales 4 x 4 que tienen la misma matriz de coeficientes:\n",
    "\n",
    "\\begin{gather*}\n",
    "x_{1} - x_{2} + 2 x_{3} - x_{4} = 6, & \\quad x_{1} - x_{2} + 2 x_{3} - x_{4} = 1 \\\\\n",
    "x_{1} - x_{3} + x_{4} = 4, & \\quad x_{1} - x_{3} + x_{4} = 1 \\\\\n",
    "2 x_{1} + x_{2} + 3 x_{3} - 4 x_{4} = -2, & \\quad 2 x_{1} + x_{2} + 3 x_{3} - 4 x_{4} = 2 \\\\\n",
    "- x_{2} + x_{3} - x_{4} = 5, & \\quad - x_{2} + x_{3} - x_{4} = -1\n",
    "\\end{gather*}\n"
   ]
  },
  {
   "cell_type": "markdown",
   "id": "c4c9fb6d-cf10-425f-ac63-ad6c1c4ab32e",
   "metadata": {},
   "source": [
    "**4.** Encuentre los valores de A que hacen que la siguiente matriz sea singular.\n",
    "\n",
    "\\begin{gather*}\n",
    "A = \n",
    "\\begin{bmatrix}\n",
    "1 & -1 & \\alpha \\\\\n",
    "2 & 1 & 1 \\\\\n",
    "0 & \\alpha & -\\frac{3}{2}\n",
    "\\end{bmatrix}\\\\\n",
    "\\end{gather*}\n"
   ]
  },
  {
   "cell_type": "markdown",
   "id": "99db81d5-f648-4b65-b3f9-2bedb6edc904",
   "metadata": {},
   "source": [
    "**5.** Resuelva los siguientes sistemas lineales:\n"
   ]
  },
  {
   "cell_type": "markdown",
   "id": "a7cdd7f9-f6a6-4ee2-bdf9-6279a99c1eda",
   "metadata": {},
   "source": [
    "**a)**\n",
    "$$\n",
    "\\begin{gather*}\n",
    "\\begin{bmatrix}\n",
    "1 & 0 & 0 \\\\\n",
    "2 & 1 & 0 \\\\\n",
    "-1 & 0 & 1\n",
    "\\end{bmatrix}\n",
    "\\begin{bmatrix}\n",
    "2 & 3 & -1 \\\\\n",
    "0 & -2 & 1 \\\\\n",
    "0 & 0 & 3\n",
    "\\end{bmatrix}\n",
    "\\begin{bmatrix}\n",
    "x_{1} \\\\ x_{2} \\\\ x_{3}\n",
    "\\end{bmatrix}\n",
    "=\n",
    "\\begin{bmatrix}\n",
    "2 \\\\ -1 \\\\ 1\n",
    "\\end{bmatrix}\n",
    "\\end{gather*}\n",
    "$$"
   ]
  },
  {
   "cell_type": "markdown",
   "id": "e140832d-eaa8-4897-909f-12dd62523be1",
   "metadata": {},
   "source": [
    "**b)**\n",
    "$$\n",
    "\\begin{gather*}\n",
    "\\begin{bmatrix}\n",
    "2 & 0 & 0 \\\\\n",
    "-1 & 1 & 0 \\\\\n",
    "3 & 2 & -1\n",
    "\\end{bmatrix}\n",
    "\\begin{bmatrix}\n",
    "1 & 1 & 1 \\\\\n",
    "0 & 1 & 2 \\\\\n",
    "0 & 0 & 1\n",
    "\\end{bmatrix}\n",
    "\\begin{bmatrix}\n",
    "x_{1} \\\\ x_{2} \\\\ x_{3}\n",
    "\\end{bmatrix}\n",
    "=\n",
    "\\begin{bmatrix}\n",
    "-1 \\\\ 3 \\\\ 0\n",
    "\\end{bmatrix}\n",
    "\\end{gather*}\n",
    "$$"
   ]
  },
  {
   "cell_type": "markdown",
   "id": "5adf08c6-abb5-4046-835a-d2fcc7cf3f90",
   "metadata": {},
   "source": [
    "**6.** Factorice las siguientes matrices en la descomposición LU mediante el algoritmo de factorización LU\n",
    "con lii = 1 para todas las i."
   ]
  },
  {
   "cell_type": "markdown",
   "id": "f4174ff6-9f15-4c93-9522-68fc6fd83a14",
   "metadata": {},
   "source": [
    "**a)**\n",
    "\\begin{bmatrix}\n",
    "2 & -1 & 1 \\\\\n",
    "3 & 3 & 9 \\\\\n",
    "3 & 3 & 5\n",
    "\\end{bmatrix}"
   ]
  },
  {
   "cell_type": "markdown",
   "id": "88eb243b-88e6-4f79-93ff-530f00fef9a7",
   "metadata": {},
   "source": [
    "**b)**\n",
    "\\begin{bmatrix}\n",
    "1.012 & -2.132 & 3.104 \\\\\n",
    "-2.132 & 4.096 & -7.013 \\\\\n",
    "3.104 & -7.013 & 0.014\n",
    "\\end{bmatrix}\n",
    "$"
   ]
  },
  {
   "cell_type": "markdown",
   "id": "53ab1370-3b71-4911-a9a0-bef7a8259a1c",
   "metadata": {},
   "source": [
    "**c)**\n",
    "\\begin{bmatrix}\n",
    "2 & 0 & 0 & 0 \\\\\n",
    "1 & 1.5 & 0 & 0 \\\\\n",
    "0 & -3 & 0.5 & 0 \\\\\n",
    "2 & -2 & 1 & 1\n",
    "\\end{bmatrix}"
   ]
  },
  {
   "cell_type": "markdown",
   "id": "6431c448-8aa0-46d2-9b79-d6293bf75693",
   "metadata": {},
   "source": [
    "**d)**\n",
    "\\begin{bmatrix}\n",
    "2.1756 & 4.0231 & -2.1732 & 5.1967 \\\\\n",
    "-4.0231 & 6.0000 & 0 & 1.1973 \\\\\n",
    "-1.0000 & -5.2107 & 1.1111 & 0 \\\\\n",
    "6.0235 & 7.0000 & 0 & -4.1561\n",
    "\\end{bmatrix}"
   ]
  },
  {
   "cell_type": "markdown",
   "id": "c4512fac-076a-491b-a494-572950ba3ebf",
   "metadata": {},
   "source": [
    "**7.** Modifique el algoritmo de eliminación gaussiana de tal forma que se pueda utilizar para resolver un sistema\n",
    "lineal usando la descomposición LU y, a continuación, resuelva los siguientes sistemas lineales."
   ]
  },
  {
   "cell_type": "markdown",
   "id": "a489d22f-a10b-4a94-ae5d-108864475c9e",
   "metadata": {},
   "source": [
    "**a)**\n",
    "\\begin{gather*}\n",
    "2 x_{1} - x_{2} + x_{3} = -1, \\\\\n",
    "3 x_{1} + 3 x_{2} + 9 x_{3} = 0, \\\\\n",
    "3 x_{1} + 3 x_{2} + 5 x_{3} = 4.\n",
    "\\end{gather*}"
   ]
  },
  {
   "cell_type": "markdown",
   "id": "f5f76cfd-e643-4aed-8f2d-9cfc4bb88ddf",
   "metadata": {},
   "source": [
    "**b)**\n",
    "\\begin{gather*}\n",
    "1.012 x_{1} - 2.132 x_{2} + 3.104 x_{3} = 1.984, \\\\\n",
    "-2.132 x_{1} + 4.096 x_{2} - 7.013 x_{3} = -5.049, \\\\\n",
    "3.104 x_{1} - 7.013 x_{2} + 0.014 x_{3} = -3.895.\n",
    "\\end{gather*}"
   ]
  },
  {
   "cell_type": "markdown",
   "id": "6833e1bc-f0f7-4d58-9bc8-ff1341140f13",
   "metadata": {},
   "source": [
    "**c)**\n",
    "\\begin{gather*}\n",
    "2 x_{1} = 3, \\\\\n",
    "x_{1} + 1.5 x_{3} = 4.5, \\\\\n",
    "-3 x_{2} + 0.5 x_{3} = -6.6, \\\\\n",
    "2 x_{1} - 2 x_{2} + x_{3} + x_{4} = 0.8.\n",
    "\\end{gather*}"
   ]
  },
  {
   "cell_type": "markdown",
   "id": "c3bcddae-7721-479a-96d7-aaf3011eafc0",
   "metadata": {},
   "source": [
    "**d)**\n",
    "\\begin{gather*}\n",
    "2.1756 x_{1} + 4.0231 x_{2} - 2.1732 x_{3} + 5.1967 x_{4} = 17.102, \\\\\n",
    "-4.0231 x_{1} + 6.0000 x_{2} + 1.1973 x_{4} = -6.1593, \\\\\n",
    "-1.0000 x_{1} - 5.2107 x_{2} + 1.1111 x_{3} = 3.0004, \\\\\n",
    "6.0235 x_{1} + 7.0000 x_{2} - 4.1561 x_{4} = 0.0000.\n",
    "\\end{gather*}"
   ]
  }
 ],
 "metadata": {
  "kernelspec": {
   "display_name": "Python 3 (ipykernel)",
   "language": "python",
   "name": "python3"
  },
  "language_info": {
   "codemirror_mode": {
    "name": "ipython",
    "version": 3
   },
   "file_extension": ".py",
   "mimetype": "text/x-python",
   "name": "python",
   "nbconvert_exporter": "python",
   "pygments_lexer": "ipython3",
   "version": "3.11.10"
  }
 },
 "nbformat": 4,
 "nbformat_minor": 5
}
