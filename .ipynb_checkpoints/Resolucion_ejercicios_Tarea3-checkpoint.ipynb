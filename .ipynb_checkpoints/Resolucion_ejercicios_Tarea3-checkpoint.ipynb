{
 "cells": [
  {
   "cell_type": "markdown",
   "id": "3a964201-3a02-471d-a6ef-19a6d2c51f85",
   "metadata": {},
   "source": [
    "## Jesua Villacis\n",
    "## Ejercicio 1"
   ]
  },
  {
   "cell_type": "code",
   "execution_count": 2,
   "id": "a21755bd-aab6-4f0d-a881-edcf197c8bdb",
   "metadata": {},
   "outputs": [],
   "source": [
    "import math"
   ]
  },
  {
   "cell_type": "code",
   "execution_count": 12,
   "id": "6777d984-580e-4600-b74d-84afee0ce498",
   "metadata": {},
   "outputs": [],
   "source": [
    "def aritmetica_finita(n, k, orden):\n",
    "    indice=list(range(1, n+1))\n",
    "    calculos=[]\n",
    "    if orden != 'asc':\n",
    "        indice.reverse()\n",
    "    for i in indice:\n",
    "        calculos.append(float(f\"{(1/(i**k)):.3g}\"))\n",
    "    total = float(f\"{sum(calculos):.3g}\")\n",
    "    print('Orden', orden)\n",
    "    for i, valor in zip(indice, calculos):\n",
    "        print(f\"1/{i}^{k} = {valor}\")\n",
    "    print('Total=', total)"
   ]
  },
  {
   "cell_type": "code",
   "execution_count": 13,
   "id": "6e55c3d8-5074-4419-bce4-d38469382a49",
   "metadata": {},
   "outputs": [
    {
     "name": "stdout",
     "output_type": "stream",
     "text": [
      "Orden asc\n",
      "1/1^2 = 1.0\n",
      "1/2^2 = 0.25\n",
      "1/3^2 = 0.111\n",
      "1/4^2 = 0.0625\n",
      "1/5^2 = 0.04\n",
      "1/6^2 = 0.0278\n",
      "1/7^2 = 0.0204\n",
      "1/8^2 = 0.0156\n",
      "1/9^2 = 0.0123\n",
      "1/10^2 = 0.01\n",
      "Total= 1.55\n",
      "Orden desc\n",
      "1/10^2 = 0.01\n",
      "1/9^2 = 0.0123\n",
      "1/8^2 = 0.0156\n",
      "1/7^2 = 0.0204\n",
      "1/6^2 = 0.0278\n",
      "1/5^2 = 0.04\n",
      "1/4^2 = 0.0625\n",
      "1/3^2 = 0.111\n",
      "1/2^2 = 0.25\n",
      "1/1^2 = 1.0\n",
      "Total= 1.55\n"
     ]
    }
   ],
   "source": [
    "aritmetica_finita(10, 2, 'asc')\n",
    "aritmetica_finita(10, 2, 'desc')"
   ]
  },
  {
   "cell_type": "code",
   "execution_count": 14,
   "id": "80ebba94-da06-4c40-ba73-dd29ee88961f",
   "metadata": {},
   "outputs": [
    {
     "name": "stdout",
     "output_type": "stream",
     "text": [
      "Orden asc\n",
      "1/1^3 = 1.0\n",
      "1/2^3 = 0.125\n",
      "1/3^3 = 0.037\n",
      "1/4^3 = 0.0156\n",
      "1/5^3 = 0.008\n",
      "1/6^3 = 0.00463\n",
      "1/7^3 = 0.00292\n",
      "1/8^3 = 0.00195\n",
      "1/9^3 = 0.00137\n",
      "1/10^3 = 0.001\n",
      "Total= 1.2\n",
      "Orden desc\n",
      "1/10^3 = 0.001\n",
      "1/9^3 = 0.00137\n",
      "1/8^3 = 0.00195\n",
      "1/7^3 = 0.00292\n",
      "1/6^3 = 0.00463\n",
      "1/5^3 = 0.008\n",
      "1/4^3 = 0.0156\n",
      "1/3^3 = 0.037\n",
      "1/2^3 = 0.125\n",
      "1/1^3 = 1.0\n",
      "Total= 1.2\n"
     ]
    }
   ],
   "source": [
    "aritmetica_finita(10, 3, 'asc')\n",
    "aritmetica_finita(10, 3, 'desc')"
   ]
  },
  {
   "cell_type": "markdown",
   "id": "e21a4f57-75d3-48f2-bdd1-0e7b7048d7f4",
   "metadata": {},
   "source": [
    "## Ejercicio 2"
   ]
  },
  {
   "cell_type": "code",
   "execution_count": 50,
   "id": "57e61b74-95cb-40bd-b6ca-a16e2db55150",
   "metadata": {},
   "outputs": [],
   "source": [
    "import math"
   ]
  },
  {
   "cell_type": "code",
   "execution_count": 65,
   "id": "09c42270-ee57-4d9c-a879-aebe81db821e",
   "metadata": {},
   "outputs": [],
   "source": [
    "def n_mclaurin(tolerancia):\n",
    "    target = math.pi\n",
    "    n = 1\n",
    "    while True:\n",
    "        suma_arctan_1_5 = 0.0\n",
    "        suma_arctan_1_239 = 0.0\n",
    "\n",
    "        # Suma de términos para arctan(1/5) y arctan(1/239)\n",
    "        for i in range(1, n+1):\n",
    "            term_1_5 = ((-1)**(i+1)) * (1/5)**(2*i - 1) / (2*i - 1)\n",
    "            term_1_239 = ((-1)**(i+1)) * (1/239)**(2*i - 1) / (2*i - 1)\n",
    "            suma_arctan_1_5 += term_1_5\n",
    "            suma_arctan_1_239 += term_1_239\n",
    "\n",
    "        val = 4 * (4 * suma_arctan_1_5 - suma_arctan_1_239)\n",
    "        error = abs(val - target)\n",
    "\n",
    "        if error < tolerancia:\n",
    "            return n, val, error\n",
    "\n",
    "        n += 1\n",
    "\n"
   ]
  },
  {
   "cell_type": "code",
   "execution_count": 68,
   "id": "c498509d-3376-48ca-ab92-bcb566dca0b4",
   "metadata": {},
   "outputs": [
    {
     "name": "stdout",
     "output_type": "stream",
     "text": [
      "Número de términos necesarios: 2\n",
      "Valor aproximado de pi: 3.1405970293260603\n",
      "Error absoluto: 0.0009956242637327861\n"
     ]
    }
   ],
   "source": [
    "tolerancia = 1e-3\n",
    "n, valor, error = n_mclaurin(tolerancia)\n",
    "print(f\"Número de términos necesarios: {n}\")\n",
    "print(f\"Valor aproximado de pi: {valor}\")\n",
    "print(f\"Error absoluto: {error}\")"
   ]
  },
  {
   "cell_type": "code",
   "execution_count": 69,
   "id": "46c2b25a-15de-41f8-8e10-8522c8312d96",
   "metadata": {},
   "outputs": [
    {
     "name": "stdout",
     "output_type": "stream",
     "text": [
      "Número de términos necesarios: 7\n",
      "Valor aproximado de pi: 3.141592653623555\n",
      "Error absoluto: 3.376188217885101e-11\n"
     ]
    }
   ],
   "source": [
    "tolerancia_1 = 1e-10\n",
    "n, valor, error = n_mclaurin(tolerancia_1)\n",
    "print(f\"Número de términos necesarios: {n}\")\n",
    "print(f\"Valor aproximado de pi: {valor}\")\n",
    "print(f\"Error absoluto: {error}\")"
   ]
  },
  {
   "cell_type": "markdown",
   "id": "bee7e492-fae2-47ae-a388-432e8f2fff36",
   "metadata": {},
   "source": [
    "## Ejercicio 3"
   ]
  },
  {
   "cell_type": "code",
   "execution_count": 77,
   "id": "4ef50632-b2ea-40a9-9184-dbed2bf0d35b",
   "metadata": {},
   "outputs": [],
   "source": [
    "def n_mclaurin_2( tolerancia):\n",
    "    pi_real = math.pi\n",
    "    n = 1\n",
    "    while True:\n",
    "        suma_1_5 = 0.0\n",
    "        suma_1_239 = 0.0\n",
    "\n",
    "        for i in range(1, n + 1):\n",
    "            term_1_5 = ((-1) ** (i + 1)) * (1 / 5) ** (2 * i - 1) / (2 * i - 1)\n",
    "            term_1_239 = ((-1) ** (i + 1)) * (1 / 239) ** (2 * i - 1) / (2 * i - 1)\n",
    "            suma_1_5 += term_1_5\n",
    "            suma_1_239 += term_1_239\n",
    "\n",
    "        pi_aprox = 4 * (4 * suma_1_5 - suma_1_239)\n",
    "        error = abs(pi_aprox - pi_real)\n",
    "\n",
    "        if error < tolerancia:\n",
    "            return n, pi_aprox, error\n",
    "        n += 1\n"
   ]
  },
  {
   "cell_type": "code",
   "execution_count": 78,
   "id": "5d9044ba-50bd-4b1a-a4ef-6b0e4ada7ff7",
   "metadata": {},
   "outputs": [
    {
     "name": "stdout",
     "output_type": "stream",
     "text": [
      "Número de términos necesarios: 2\n",
      "Valor aproximado de pi: 3.1405970293260603\n",
      "Error absoluto: 0.0009956242637327861\n"
     ]
    }
   ],
   "source": [
    "tolerancia = 1e-3\n",
    "n, valor_pi, error = n_mclaurin_2(tolerancia)\n",
    "\n",
    "print(f\"Número de términos necesarios: {n}\")\n",
    "print(f\"Valor aproximado de pi: {valor_pi}\")\n",
    "print(f\"Error absoluto: {error}\")"
   ]
  },
  {
   "cell_type": "markdown",
   "id": "ade43821-8161-4c04-bd6a-e2e3883cc138",
   "metadata": {},
   "source": [
    "## Ejercicio 4"
   ]
  },
  {
   "cell_type": "code",
   "execution_count": 80,
   "id": "cc0c4553-26c9-4e81-afb3-24c382415289",
   "metadata": {},
   "outputs": [],
   "source": [
    "def algo_1(nums):\n",
    "    product=0\n",
    "    for val in nums:\n",
    "        product *= val\n",
    "    return product\n",
    "\n",
    "def algo_2(nums):\n",
    "    product=1\n",
    "    for val in nums:\n",
    "        product *= val\n",
    "    return product\n",
    "\n",
    "def algo_3(nums):\n",
    "    product=1\n",
    "    for val in nums:\n",
    "        if val == 0:\n",
    "            return 0\n",
    "        product *= val\n",
    "    return product"
   ]
  },
  {
   "cell_type": "code",
   "execution_count": 83,
   "id": "2c283bd3-9fa0-4fb9-b1be-56fcc20ed128",
   "metadata": {},
   "outputs": [
    {
     "name": "stdout",
     "output_type": "stream",
     "text": [
      "Algoritmo 1, valor= 0\n",
      "Algoritmo 2, valor= 720\n",
      "Algoritmo 2, valor= 720\n"
     ]
    }
   ],
   "source": [
    "nums=[1,2,3,4,5,6]\n",
    "num1= algo_1(nums)\n",
    "num2= algo_2(nums)\n",
    "num3= algo_3(nums)\n",
    "\n",
    "print('Algoritmo 1, valor=', num1)\n",
    "print('Algoritmo 2, valor=', num2)\n",
    "print('Algoritmo 2, valor=', num3)"
   ]
  },
  {
   "cell_type": "markdown",
   "id": "411291cf-d448-45ea-b3f3-286e91b6efc0",
   "metadata": {},
   "source": [
    "## Ejercicio 5"
   ]
  },
  {
   "cell_type": "code",
   "execution_count": 89,
   "id": "642c8a6a-0d11-43d6-881e-a54054458024",
   "metadata": {},
   "outputs": [],
   "source": [
    "def complejidad_1(a, b):\n",
    "    mult = 0\n",
    "    suma = 0\n",
    "    total = 0\n",
    "    for i in a:\n",
    "        for j in b:\n",
    "            total += i * j\n",
    "            mult += 1\n",
    "            if mult > 1:\n",
    "                suma += 1  \n",
    "    return total, mult, suma\n",
    "        \n",
    "def complejidad_2(a,b):\n",
    "    suma = 0\n",
    "    mult = 1  \n",
    "    sum_a = 0\n",
    "    sum_b = 0\n",
    "    for x in a:\n",
    "        sum_a += x\n",
    "        if x != a[0]:  \n",
    "            suma += 1\n",
    "    for y in b:\n",
    "        sum_b += y\n",
    "        if y != b[0]:\n",
    "            suma += 1\n",
    "    total = sum_a * sum_b\n",
    "    return total, mult, suma"
   ]
  },
  {
   "cell_type": "code",
   "execution_count": 90,
   "id": "4644128b-c7b4-4246-b790-f5396c882493",
   "metadata": {},
   "outputs": [
    {
     "name": "stdout",
     "output_type": "stream",
     "text": [
      "Complejidad 1\n",
      "Valor: 225, Multiplicaciones: 25, Sumas: 24\n",
      "Complejidad 2\n",
      "Valor: 225, Multiplicaciones: 1, Sumas: 8\n"
     ]
    }
   ],
   "source": [
    "a = list(range(1, 6))  \n",
    "b = list(range(1, 6))  \n",
    "\n",
    "total, multi, suma= complejidad_1(a, b)\n",
    "total_2, multi_2, suma_2= complejidad_2(a, b)\n",
    "\n",
    "print('Complejidad 1')\n",
    "print(f\"Valor: {total}, Multiplicaciones: {multi}, Sumas: {suma}\")\n",
    "\n",
    "print('Complejidad 2')\n",
    "print(f\"Valor: {total_2}, Multiplicaciones: {multi_2}, Sumas: {suma_2}\")"
   ]
  },
  {
   "cell_type": "markdown",
   "id": "f27bfc58-9fd6-4e4d-b5e3-259448a0e5f3",
   "metadata": {},
   "source": [
    "## Discusion 1"
   ]
  },
  {
   "cell_type": "code",
   "execution_count": 91,
   "id": "873194f2-02df-4495-b63e-52a1c7fdd864",
   "metadata": {},
   "outputs": [],
   "source": [
    "def suma_inversa(nums):\n",
    "    suma = 0\n",
    "    for x in reversed(nums):\n",
    "        suma += x\n",
    "    return suma"
   ]
  },
  {
   "cell_type": "markdown",
   "id": "c25ec4d0-5e71-4408-933c-b63bb789bb32",
   "metadata": {},
   "source": [
    "## Discusion 2"
   ]
  },
  {
   "cell_type": "code",
   "execution_count": 92,
   "id": "b9ad8e7f-f0da-4a78-b003-46f6bbf0f352",
   "metadata": {},
   "outputs": [],
   "source": [
    "import cmath"
   ]
  },
  {
   "cell_type": "code",
   "execution_count": 94,
   "id": "c99afdf3-4eea-4981-a225-19e8d80fd878",
   "metadata": {},
   "outputs": [],
   "source": [
    "def raiz(a,b,c):\n",
    "    if a == 0:\n",
    "        raise ValueError(\"No es una ecuación cuadrática\")\n",
    "\n",
    "    Det = b**2 - 4*a*c\n",
    "    sqrt_disc = cmath.sqrt(Det) if Det < 0 else math.sqrt(Det)\n",
    "    if b >= 0:\n",
    "        x1 = (-b - sqrt_disc) / (2*a)\n",
    "    else:\n",
    "        x1 = (-b + sqrt_disc) / (2*a)\n",
    "\n",
    "    x2 = c / (a * x1)  # raíz más estable\n",
    "    if Det ==0:\n",
    "        x1= -b /(2*a)\n",
    "        x2 = x1\n",
    "    if Det < 0:\n",
    "        real = -b /(2*a)\n",
    "        imaginario= sqrt(Det)/(2*a)\n",
    "        x1= real + i*imaginario\n",
    "        x2= real - i*imaginario\n",
    "\n",
    "    return x1, x2"
   ]
  },
  {
   "cell_type": "code",
   "execution_count": 96,
   "id": "006a95d3-37de-4a4f-bf9a-f671be71784b",
   "metadata": {},
   "outputs": [
    {
     "name": "stdout",
     "output_type": "stream",
     "text": [
      "x1 = -1.0\n",
      "x2 = -0.3333333333333333\n"
     ]
    }
   ],
   "source": [
    "a,b,c= 3, 4, 1\n",
    "x1, x2 = raiz(a, b, c)\n",
    "print(f\"x1 = {x1}\")\n",
    "print(f\"x2 = {x2}\")"
   ]
  },
  {
   "cell_type": "markdown",
   "id": "f46e7687-c94b-496a-a945-36509d6a505f",
   "metadata": {},
   "source": [
    "## Discusion 3"
   ]
  },
  {
   "cell_type": "code",
   "execution_count": 97,
   "id": "b1d67b46-a274-4a61-8500-35ae3d39c664",
   "metadata": {},
   "outputs": [],
   "source": [
    "def termino_serie(x, n):\n",
    "    numerador = (2**(n-1)) * x**(2**(n-1) - 1) + (2**n) * x**(2**n - 1)\n",
    "    denominador = 1 - x**(2**(n-1)) + x**(2**(2*(n-1)))\n",
    "    return numerador / denominador\n",
    "\n",
    "def suma_serie(x, tolerancia=1e-6):\n",
    "    suma = 0.0\n",
    "    n = 1\n",
    "    while True:\n",
    "        # Calculamos término n\n",
    "        num = (2**(n-1)) * x**(2**(n-1) - 1)\n",
    "        num += (2**n) * x**(2**n - 1)\n",
    "        den = 1 - x**(2**(n-1)) + x**(2**(2*(n-1)))\n",
    "        termino = num / den\n",
    "        \n",
    "        suma += termino\n",
    "        \n",
    "        # Valor derecho\n",
    "        valor_derecho = (1 + 2*x) / (1 + x + x**2)\n",
    "        \n",
    "        error = abs(suma - valor_derecho)\n",
    "        \n",
    "        if error < tolerancia:\n",
    "            return n, suma, valor_derecho, error\n",
    "        \n",
    "        n += 1"
   ]
  },
  {
   "cell_type": "code",
   "execution_count": 100,
   "id": "bacea212-af90-4cc5-8f9e-9e485828a3b2",
   "metadata": {},
   "outputs": [
    {
     "ename": "OverflowError",
     "evalue": "int too large to convert to float",
     "output_type": "error",
     "traceback": [
      "\u001b[0;31m---------------------------------------------------------------------------\u001b[0m",
      "\u001b[0;31mOverflowError\u001b[0m                             Traceback (most recent call last)",
      "Cell \u001b[0;32mIn[100], line 3\u001b[0m\n\u001b[1;32m      1\u001b[0m x \u001b[38;5;241m=\u001b[39m \u001b[38;5;241m0.25\u001b[39m\n\u001b[1;32m      2\u001b[0m tolerancia \u001b[38;5;241m=\u001b[39m \u001b[38;5;241m1e-6\u001b[39m\n\u001b[0;32m----> 3\u001b[0m n, suma_izq, valor_der, error \u001b[38;5;241m=\u001b[39m \u001b[43msuma_serie\u001b[49m\u001b[43m(\u001b[49m\u001b[43mx\u001b[49m\u001b[43m,\u001b[49m\u001b[43m \u001b[49m\u001b[43mtolerancia\u001b[49m\u001b[43m)\u001b[49m\n\u001b[1;32m      5\u001b[0m \u001b[38;5;28mprint\u001b[39m(\u001b[38;5;124mf\u001b[39m\u001b[38;5;124m\"\u001b[39m\u001b[38;5;124mNúmero de términos necesarios: \u001b[39m\u001b[38;5;132;01m{\u001b[39;00mn\u001b[38;5;132;01m}\u001b[39;00m\u001b[38;5;124m\"\u001b[39m)\n\u001b[1;32m      6\u001b[0m \u001b[38;5;28mprint\u001b[39m(\u001b[38;5;124mf\u001b[39m\u001b[38;5;124m\"\u001b[39m\u001b[38;5;124mSuma izquierda (serie): \u001b[39m\u001b[38;5;132;01m{\u001b[39;00msuma_izq\u001b[38;5;132;01m}\u001b[39;00m\u001b[38;5;124m\"\u001b[39m)\n",
      "Cell \u001b[0;32mIn[97], line 13\u001b[0m, in \u001b[0;36msuma_serie\u001b[0;34m(x, tolerancia)\u001b[0m\n\u001b[1;32m     11\u001b[0m num \u001b[38;5;241m=\u001b[39m (\u001b[38;5;241m2\u001b[39m\u001b[38;5;241m*\u001b[39m\u001b[38;5;241m*\u001b[39m(n\u001b[38;5;241m-\u001b[39m\u001b[38;5;241m1\u001b[39m)) \u001b[38;5;241m*\u001b[39m x\u001b[38;5;241m*\u001b[39m\u001b[38;5;241m*\u001b[39m(\u001b[38;5;241m2\u001b[39m\u001b[38;5;241m*\u001b[39m\u001b[38;5;241m*\u001b[39m(n\u001b[38;5;241m-\u001b[39m\u001b[38;5;241m1\u001b[39m) \u001b[38;5;241m-\u001b[39m \u001b[38;5;241m1\u001b[39m)\n\u001b[1;32m     12\u001b[0m num \u001b[38;5;241m+\u001b[39m\u001b[38;5;241m=\u001b[39m (\u001b[38;5;241m2\u001b[39m\u001b[38;5;241m*\u001b[39m\u001b[38;5;241m*\u001b[39mn) \u001b[38;5;241m*\u001b[39m x\u001b[38;5;241m*\u001b[39m\u001b[38;5;241m*\u001b[39m(\u001b[38;5;241m2\u001b[39m\u001b[38;5;241m*\u001b[39m\u001b[38;5;241m*\u001b[39mn \u001b[38;5;241m-\u001b[39m \u001b[38;5;241m1\u001b[39m)\n\u001b[0;32m---> 13\u001b[0m den \u001b[38;5;241m=\u001b[39m \u001b[38;5;241m1\u001b[39m \u001b[38;5;241m-\u001b[39m x\u001b[38;5;241m*\u001b[39m\u001b[38;5;241m*\u001b[39m(\u001b[38;5;241m2\u001b[39m\u001b[38;5;241m*\u001b[39m\u001b[38;5;241m*\u001b[39m(n\u001b[38;5;241m-\u001b[39m\u001b[38;5;241m1\u001b[39m)) \u001b[38;5;241m+\u001b[39m \u001b[43mx\u001b[49m\u001b[38;5;241;43m*\u001b[39;49m\u001b[38;5;241;43m*\u001b[39;49m\u001b[43m(\u001b[49m\u001b[38;5;241;43m2\u001b[39;49m\u001b[38;5;241;43m*\u001b[39;49m\u001b[38;5;241;43m*\u001b[39;49m\u001b[43m(\u001b[49m\u001b[38;5;241;43m2\u001b[39;49m\u001b[38;5;241;43m*\u001b[39;49m\u001b[43m(\u001b[49m\u001b[43mn\u001b[49m\u001b[38;5;241;43m-\u001b[39;49m\u001b[38;5;241;43m1\u001b[39;49m\u001b[43m)\u001b[49m\u001b[43m)\u001b[49m\u001b[43m)\u001b[49m\n\u001b[1;32m     14\u001b[0m termino \u001b[38;5;241m=\u001b[39m num \u001b[38;5;241m/\u001b[39m den\n\u001b[1;32m     16\u001b[0m suma \u001b[38;5;241m+\u001b[39m\u001b[38;5;241m=\u001b[39m termino\n",
      "\u001b[0;31mOverflowError\u001b[0m: int too large to convert to float"
     ]
    }
   ],
   "source": [
    "x = 0.25\n",
    "tolerancia = 1e-6\n",
    "n, suma_izq, valor_der, error = suma_serie(x, tolerancia)\n",
    "    \n",
    "print(f\"Número de términos necesarios: {n}\")\n",
    "print(f\"Suma izquierda (serie): {suma_izq}\")\n",
    "print(f\"Valor derecho (cerrado): {valor_der}\")\n",
    "print(f\"Error absoluto: {error}\")"
   ]
  }
 ],
 "metadata": {
  "kernelspec": {
   "display_name": "Python 3 (ipykernel)",
   "language": "python",
   "name": "python3"
  },
  "language_info": {
   "codemirror_mode": {
    "name": "ipython",
    "version": 3
   },
   "file_extension": ".py",
   "mimetype": "text/x-python",
   "name": "python",
   "nbconvert_exporter": "python",
   "pygments_lexer": "ipython3",
   "version": "3.11.10"
  }
 },
 "nbformat": 4,
 "nbformat_minor": 5
}
